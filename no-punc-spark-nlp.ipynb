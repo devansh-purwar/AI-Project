{
 "cells": [
  {
   "cell_type": "code",
   "execution_count": 1,
   "id": "468561e7",
   "metadata": {
    "execution": {
     "iopub.execute_input": "2022-11-13T06:08:44.134664Z",
     "iopub.status.busy": "2022-11-13T06:08:44.134152Z",
     "iopub.status.idle": "2022-11-13T06:09:43.895391Z",
     "shell.execute_reply": "2022-11-13T06:09:43.893770Z"
    },
    "id": "30C6sdTtwjex",
    "outputId": "7df5c56b-dc8d-4656-a8d3-04496d3a3ece",
    "papermill": {
     "duration": 59.770069,
     "end_time": "2022-11-13T06:09:43.898146",
     "exception": false,
     "start_time": "2022-11-13T06:08:44.128077",
     "status": "completed"
    },
    "tags": []
   },
   "outputs": [
    {
     "name": "stdout",
     "output_type": "stream",
     "text": [
      "W: Failed to fetch http://packages.cloud.google.com/apt/dists/gcsfuse-focal/InRelease  502  Bad Gateway [IP: 142.251.107.138 80]\r\n",
      "W: Some index files failed to download. They have been ignored, or old ones used instead.\r\n",
      "openjdk version \"1.8.0_352\"\r\n",
      "OpenJDK Runtime Environment (build 1.8.0_352-8u352-ga-1~20.04-b08)\r\n",
      "OpenJDK 64-Bit Server VM (build 25.352-b08, mixed mode)\r\n",
      "\u001b[33mWARNING: Running pip as the 'root' user can result in broken permissions and conflicting behaviour with the system package manager. It is recommended to use a virtual environment instead: https://pip.pypa.io/warnings/venv\u001b[0m\u001b[33m\r\n",
      "\u001b[0m\u001b[33mWARNING: Running pip as the 'root' user can result in broken permissions and conflicting behaviour with the system package manager. It is recommended to use a virtual environment instead: https://pip.pypa.io/warnings/venv\u001b[0m\u001b[33m\r\n",
      "\u001b[0m"
     ]
    }
   ],
   "source": [
    "import os\n",
    "\n",
    "# Install java\n",
    "! apt-get update -qq\n",
    "! apt-get install -y openjdk-8-jdk-headless -qq > /dev/null\n",
    "\n",
    "os.environ[\"JAVA_HOME\"] = \"/usr/lib/jvm/java-8-openjdk-amd64\"\n",
    "os.environ[\"PATH\"] = os.environ[\"JAVA_HOME\"] + \"/bin:\" + os.environ[\"PATH\"]\n",
    "! java -version\n",
    "\n",
    "# Install pyspark\n",
    "! pip install --ignore-installed -q pyspark==2.4.4\n",
    "! pip install --ignore-installed -q spark-nlp==2.7.1"
   ]
  },
  {
   "cell_type": "code",
   "execution_count": 2,
   "id": "ffe461d9",
   "metadata": {
    "execution": {
     "iopub.execute_input": "2022-11-13T06:09:43.907886Z",
     "iopub.status.busy": "2022-11-13T06:09:43.907424Z",
     "iopub.status.idle": "2022-11-13T06:10:01.727732Z",
     "shell.execute_reply": "2022-11-13T06:10:01.725591Z"
    },
    "id": "l-oor345yWqh",
    "outputId": "4f777149-0bc2-4eee-9edc-2f75bccb69fe",
    "papermill": {
     "duration": 17.828043,
     "end_time": "2022-11-13T06:10:01.730196",
     "exception": false,
     "start_time": "2022-11-13T06:09:43.902153",
     "status": "completed"
    },
    "tags": []
   },
   "outputs": [
    {
     "name": "stderr",
     "output_type": "stream",
     "text": [
      "Ivy Default Cache set to: /root/.ivy2/cache\n",
      "The jars for the packages stored in: /root/.ivy2/jars\n",
      ":: loading settings :: url = jar:file:/opt/conda/lib/python3.7/site-packages/pyspark/jars/ivy-2.4.0.jar!/org/apache/ivy/core/settings/ivysettings.xml\n",
      "com.johnsnowlabs.nlp#spark-nlp-gpu_2.11 added as a dependency\n",
      ":: resolving dependencies :: org.apache.spark#spark-submit-parent-3115d348-41aa-403e-97db-80e70a2521b1;1.0\n",
      "\tconfs: [default]\n",
      "\tfound com.johnsnowlabs.nlp#spark-nlp-gpu_2.11;2.7.1 in central\n",
      "\tfound com.typesafe#config;1.3.0 in central\n",
      "\tfound org.rocksdb#rocksdbjni;6.5.3 in central\n",
      "\tfound org.apache.hadoop#hadoop-aws;3.2.0 in central\n",
      "\tfound com.amazonaws#aws-java-sdk-core;1.11.603 in central\n",
      "\tfound commons-logging#commons-logging;1.1.3 in central\n",
      "\tfound org.apache.httpcomponents#httpclient;4.5.9 in central\n",
      "\tfound org.apache.httpcomponents#httpcore;4.4.11 in central\n",
      "\tfound commons-codec#commons-codec;1.11 in central\n",
      "\tfound software.amazon.ion#ion-java;1.0.2 in central\n",
      "\tfound com.fasterxml.jackson.dataformat#jackson-dataformat-cbor;2.6.7 in central\n",
      "\tfound joda-time#joda-time;2.8.1 in central\n",
      "\tfound com.amazonaws#aws-java-sdk-s3;1.11.603 in central\n",
      "\tfound com.amazonaws#aws-java-sdk-kms;1.11.603 in central\n",
      "\tfound com.amazonaws#jmespath-java;1.11.603 in central\n",
      "\tfound com.fasterxml.jackson.core#jackson-databind;2.6.7.2 in central\n",
      "\tfound com.fasterxml.jackson.core#jackson-annotations;2.6.0 in central\n",
      "\tfound com.fasterxml.jackson.core#jackson-core;2.6.7 in central\n",
      "\tfound com.github.universal-automata#liblevenshtein;3.0.0 in central\n",
      "\tfound com.google.code.findbugs#annotations;3.0.1 in central\n",
      "\tfound net.jcip#jcip-annotations;1.0 in central\n",
      "\tfound com.google.code.findbugs#jsr305;3.0.1 in central\n",
      "\tfound com.google.protobuf#protobuf-java-util;3.0.0-beta-3 in central\n",
      "\tfound com.google.protobuf#protobuf-java;3.0.0-beta-3 in central\n",
      "\tfound com.google.code.gson#gson;2.3 in central\n",
      "\tfound it.unimi.dsi#fastutil;7.0.12 in central\n",
      "\tfound org.projectlombok#lombok;1.16.8 in central\n",
      "\tfound org.slf4j#slf4j-api;1.7.21 in central\n",
      "\tfound com.navigamez#greex;1.0 in central\n",
      "\tfound dk.brics.automaton#automaton;1.11-8 in central\n",
      "\tfound org.json4s#json4s-ext_2.11;3.5.3 in central\n",
      "\tfound joda-time#joda-time;2.9.5 in central\n",
      "\tfound org.joda#joda-convert;1.8.1 in central\n",
      "\tfound org.tensorflow#libtensorflow;1.15.0 in central\n",
      "\tfound org.tensorflow#libtensorflow_jni_gpu;1.15.0 in central\n",
      "\tfound net.sf.trove4j#trove4j;3.0.3 in central\n",
      "downloading https://repo1.maven.org/maven2/com/johnsnowlabs/nlp/spark-nlp-gpu_2.11/2.7.1/spark-nlp-gpu_2.11-2.7.1.jar ...\n",
      "\t[SUCCESSFUL ] com.johnsnowlabs.nlp#spark-nlp-gpu_2.11;2.7.1!spark-nlp-gpu_2.11.jar (431ms)\n",
      "downloading https://repo1.maven.org/maven2/com/typesafe/config/1.3.0/config-1.3.0.jar ...\n",
      "\t[SUCCESSFUL ] com.typesafe#config;1.3.0!config.jar(bundle) (16ms)\n",
      "downloading https://repo1.maven.org/maven2/org/rocksdb/rocksdbjni/6.5.3/rocksdbjni-6.5.3.jar ...\n",
      "\t[SUCCESSFUL ] org.rocksdb#rocksdbjni;6.5.3!rocksdbjni.jar (241ms)\n",
      "downloading https://repo1.maven.org/maven2/org/apache/hadoop/hadoop-aws/3.2.0/hadoop-aws-3.2.0.jar ...\n",
      "\t[SUCCESSFUL ] org.apache.hadoop#hadoop-aws;3.2.0!hadoop-aws.jar (18ms)\n",
      "downloading https://repo1.maven.org/maven2/com/amazonaws/aws-java-sdk-core/1.11.603/aws-java-sdk-core-1.11.603.jar ...\n",
      "\t[SUCCESSFUL ] com.amazonaws#aws-java-sdk-core;1.11.603!aws-java-sdk-core.jar (21ms)\n",
      "downloading https://repo1.maven.org/maven2/com/amazonaws/aws-java-sdk-s3/1.11.603/aws-java-sdk-s3-1.11.603.jar ...\n",
      "\t[SUCCESSFUL ] com.amazonaws#aws-java-sdk-s3;1.11.603!aws-java-sdk-s3.jar (22ms)\n",
      "downloading https://repo1.maven.org/maven2/com/github/universal-automata/liblevenshtein/3.0.0/liblevenshtein-3.0.0.jar ...\n",
      "\t[SUCCESSFUL ] com.github.universal-automata#liblevenshtein;3.0.0!liblevenshtein.jar (16ms)\n",
      "downloading https://repo1.maven.org/maven2/com/navigamez/greex/1.0/greex-1.0.jar ...\n",
      "\t[SUCCESSFUL ] com.navigamez#greex;1.0!greex.jar (15ms)\n",
      "downloading https://repo1.maven.org/maven2/org/json4s/json4s-ext_2.11/3.5.3/json4s-ext_2.11-3.5.3.jar ...\n",
      "\t[SUCCESSFUL ] org.json4s#json4s-ext_2.11;3.5.3!json4s-ext_2.11.jar (15ms)\n",
      "downloading https://repo1.maven.org/maven2/org/tensorflow/libtensorflow/1.15.0/libtensorflow-1.15.0.jar ...\n",
      "\t[SUCCESSFUL ] org.tensorflow#libtensorflow;1.15.0!libtensorflow.jar (33ms)\n",
      "downloading https://repo1.maven.org/maven2/org/tensorflow/libtensorflow_jni_gpu/1.15.0/libtensorflow_jni_gpu-1.15.0.jar ...\n",
      "\t[SUCCESSFUL ] org.tensorflow#libtensorflow_jni_gpu;1.15.0!libtensorflow_jni_gpu.jar (2720ms)\n",
      "downloading https://repo1.maven.org/maven2/net/sf/trove4j/trove4j/3.0.3/trove4j-3.0.3.jar ...\n",
      "\t[SUCCESSFUL ] net.sf.trove4j#trove4j;3.0.3!trove4j.jar (36ms)\n",
      "downloading https://repo1.maven.org/maven2/commons-logging/commons-logging/1.1.3/commons-logging-1.1.3.jar ...\n",
      "\t[SUCCESSFUL ] commons-logging#commons-logging;1.1.3!commons-logging.jar (15ms)\n",
      "downloading https://repo1.maven.org/maven2/org/apache/httpcomponents/httpclient/4.5.9/httpclient-4.5.9.jar ...\n",
      "\t[SUCCESSFUL ] org.apache.httpcomponents#httpclient;4.5.9!httpclient.jar (21ms)\n",
      "downloading https://repo1.maven.org/maven2/software/amazon/ion/ion-java/1.0.2/ion-java-1.0.2.jar ...\n",
      "\t[SUCCESSFUL ] software.amazon.ion#ion-java;1.0.2!ion-java.jar(bundle) (20ms)\n",
      "downloading https://repo1.maven.org/maven2/com/fasterxml/jackson/dataformat/jackson-dataformat-cbor/2.6.7/jackson-dataformat-cbor-2.6.7.jar ...\n",
      "\t[SUCCESSFUL ] com.fasterxml.jackson.dataformat#jackson-dataformat-cbor;2.6.7!jackson-dataformat-cbor.jar(bundle) (16ms)\n",
      "downloading https://repo1.maven.org/maven2/org/apache/httpcomponents/httpcore/4.4.11/httpcore-4.4.11.jar ...\n",
      "\t[SUCCESSFUL ] org.apache.httpcomponents#httpcore;4.4.11!httpcore.jar (25ms)\n",
      "downloading https://repo1.maven.org/maven2/commons-codec/commons-codec/1.11/commons-codec-1.11.jar ...\n",
      "\t[SUCCESSFUL ] commons-codec#commons-codec;1.11!commons-codec.jar (26ms)\n",
      "downloading https://repo1.maven.org/maven2/com/amazonaws/aws-java-sdk-kms/1.11.603/aws-java-sdk-kms-1.11.603.jar ...\n",
      "\t[SUCCESSFUL ] com.amazonaws#aws-java-sdk-kms;1.11.603!aws-java-sdk-kms.jar (18ms)\n",
      "downloading https://repo1.maven.org/maven2/com/amazonaws/jmespath-java/1.11.603/jmespath-java-1.11.603.jar ...\n",
      "\t[SUCCESSFUL ] com.amazonaws#jmespath-java;1.11.603!jmespath-java.jar (23ms)\n",
      "downloading https://repo1.maven.org/maven2/com/fasterxml/jackson/core/jackson-databind/2.6.7.2/jackson-databind-2.6.7.2.jar ...\n",
      "\t[SUCCESSFUL ] com.fasterxml.jackson.core#jackson-databind;2.6.7.2!jackson-databind.jar(bundle) (24ms)\n",
      "downloading https://repo1.maven.org/maven2/com/fasterxml/jackson/core/jackson-annotations/2.6.0/jackson-annotations-2.6.0.jar ...\n",
      "\t[SUCCESSFUL ] com.fasterxml.jackson.core#jackson-annotations;2.6.0!jackson-annotations.jar(bundle) (15ms)\n",
      "downloading https://repo1.maven.org/maven2/com/fasterxml/jackson/core/jackson-core/2.6.7/jackson-core-2.6.7.jar ...\n",
      "\t[SUCCESSFUL ] com.fasterxml.jackson.core#jackson-core;2.6.7!jackson-core.jar(bundle) (36ms)\n",
      "downloading https://repo1.maven.org/maven2/com/google/code/findbugs/annotations/3.0.1/annotations-3.0.1.jar ...\n",
      "\t[SUCCESSFUL ] com.google.code.findbugs#annotations;3.0.1!annotations.jar (15ms)\n",
      "downloading https://repo1.maven.org/maven2/com/google/protobuf/protobuf-java-util/3.0.0-beta-3/protobuf-java-util-3.0.0-beta-3.jar ...\n",
      "\t[SUCCESSFUL ] com.google.protobuf#protobuf-java-util;3.0.0-beta-3!protobuf-java-util.jar(bundle) (17ms)\n",
      "downloading https://repo1.maven.org/maven2/com/google/protobuf/protobuf-java/3.0.0-beta-3/protobuf-java-3.0.0-beta-3.jar ...\n",
      "\t[SUCCESSFUL ] com.google.protobuf#protobuf-java;3.0.0-beta-3!protobuf-java.jar(bundle) (25ms)\n",
      "downloading https://repo1.maven.org/maven2/it/unimi/dsi/fastutil/7.0.12/fastutil-7.0.12.jar ...\n",
      "\t[SUCCESSFUL ] it.unimi.dsi#fastutil;7.0.12!fastutil.jar (164ms)\n",
      "downloading https://repo1.maven.org/maven2/org/projectlombok/lombok/1.16.8/lombok-1.16.8.jar ...\n",
      "\t[SUCCESSFUL ] org.projectlombok#lombok;1.16.8!lombok.jar (24ms)\n",
      "downloading https://repo1.maven.org/maven2/org/slf4j/slf4j-api/1.7.21/slf4j-api-1.7.21.jar ...\n",
      "\t[SUCCESSFUL ] org.slf4j#slf4j-api;1.7.21!slf4j-api.jar (14ms)\n",
      "downloading https://repo1.maven.org/maven2/net/jcip/jcip-annotations/1.0/jcip-annotations-1.0.jar ...\n",
      "\t[SUCCESSFUL ] net.jcip#jcip-annotations;1.0!jcip-annotations.jar (18ms)\n",
      "downloading https://repo1.maven.org/maven2/com/google/code/findbugs/jsr305/3.0.1/jsr305-3.0.1.jar ...\n",
      "\t[SUCCESSFUL ] com.google.code.findbugs#jsr305;3.0.1!jsr305.jar (15ms)\n",
      "downloading https://repo1.maven.org/maven2/com/google/code/gson/gson/2.3/gson-2.3.jar ...\n",
      "\t[SUCCESSFUL ] com.google.code.gson#gson;2.3!gson.jar (16ms)\n",
      "downloading https://repo1.maven.org/maven2/dk/brics/automaton/automaton/1.11-8/automaton-1.11-8.jar ...\n",
      "\t[SUCCESSFUL ] dk.brics.automaton#automaton;1.11-8!automaton.jar (16ms)\n",
      "downloading https://repo1.maven.org/maven2/joda-time/joda-time/2.9.5/joda-time-2.9.5.jar ...\n",
      "\t[SUCCESSFUL ] joda-time#joda-time;2.9.5!joda-time.jar (19ms)\n",
      "downloading https://repo1.maven.org/maven2/org/joda/joda-convert/1.8.1/joda-convert-1.8.1.jar ...\n",
      "\t[SUCCESSFUL ] org.joda#joda-convert;1.8.1!joda-convert.jar (15ms)\n",
      ":: resolution report :: resolve 8615ms :: artifacts dl 4210ms\n",
      "\t:: modules in use:\n",
      "\tcom.amazonaws#aws-java-sdk-core;1.11.603 from central in [default]\n",
      "\tcom.amazonaws#aws-java-sdk-kms;1.11.603 from central in [default]\n",
      "\tcom.amazonaws#aws-java-sdk-s3;1.11.603 from central in [default]\n",
      "\tcom.amazonaws#jmespath-java;1.11.603 from central in [default]\n",
      "\tcom.fasterxml.jackson.core#jackson-annotations;2.6.0 from central in [default]\n",
      "\tcom.fasterxml.jackson.core#jackson-core;2.6.7 from central in [default]\n",
      "\tcom.fasterxml.jackson.core#jackson-databind;2.6.7.2 from central in [default]\n",
      "\tcom.fasterxml.jackson.dataformat#jackson-dataformat-cbor;2.6.7 from central in [default]\n",
      "\tcom.github.universal-automata#liblevenshtein;3.0.0 from central in [default]\n",
      "\tcom.google.code.findbugs#annotations;3.0.1 from central in [default]\n",
      "\tcom.google.code.findbugs#jsr305;3.0.1 from central in [default]\n",
      "\tcom.google.code.gson#gson;2.3 from central in [default]\n",
      "\tcom.google.protobuf#protobuf-java;3.0.0-beta-3 from central in [default]\n",
      "\tcom.google.protobuf#protobuf-java-util;3.0.0-beta-3 from central in [default]\n",
      "\tcom.johnsnowlabs.nlp#spark-nlp-gpu_2.11;2.7.1 from central in [default]\n",
      "\tcom.navigamez#greex;1.0 from central in [default]\n",
      "\tcom.typesafe#config;1.3.0 from central in [default]\n",
      "\tcommons-codec#commons-codec;1.11 from central in [default]\n",
      "\tcommons-logging#commons-logging;1.1.3 from central in [default]\n",
      "\tdk.brics.automaton#automaton;1.11-8 from central in [default]\n",
      "\tit.unimi.dsi#fastutil;7.0.12 from central in [default]\n",
      "\tjoda-time#joda-time;2.9.5 from central in [default]\n",
      "\tnet.jcip#jcip-annotations;1.0 from central in [default]\n",
      "\tnet.sf.trove4j#trove4j;3.0.3 from central in [default]\n",
      "\torg.apache.hadoop#hadoop-aws;3.2.0 from central in [default]\n",
      "\torg.apache.httpcomponents#httpclient;4.5.9 from central in [default]\n",
      "\torg.apache.httpcomponents#httpcore;4.4.11 from central in [default]\n",
      "\torg.joda#joda-convert;1.8.1 from central in [default]\n",
      "\torg.json4s#json4s-ext_2.11;3.5.3 from central in [default]\n",
      "\torg.projectlombok#lombok;1.16.8 from central in [default]\n",
      "\torg.rocksdb#rocksdbjni;6.5.3 from central in [default]\n",
      "\torg.slf4j#slf4j-api;1.7.21 from central in [default]\n",
      "\torg.tensorflow#libtensorflow;1.15.0 from central in [default]\n",
      "\torg.tensorflow#libtensorflow_jni_gpu;1.15.0 from central in [default]\n",
      "\tsoftware.amazon.ion#ion-java;1.0.2 from central in [default]\n",
      "\t:: evicted modules:\n",
      "\tcommons-logging#commons-logging;1.2 by [commons-logging#commons-logging;1.1.3] in [default]\n",
      "\tjoda-time#joda-time;2.8.1 by [joda-time#joda-time;2.9.5] in [default]\n",
      "\t---------------------------------------------------------------------\n",
      "\t|                  |            modules            ||   artifacts   |\n",
      "\t|       conf       | number| search|dwnlded|evicted|| number|dwnlded|\n",
      "\t---------------------------------------------------------------------\n",
      "\t|      default     |   37  |   36  |   36  |   2   ||   35  |   35  |\n",
      "\t---------------------------------------------------------------------\n",
      "\n",
      ":: problems summary ::\n",
      ":::: ERRORS\n",
      "\tSERVER ERROR: Bad Gateway url=https://dl.bintray.com/spark-packages/maven/org/apache/hadoop/hadoop-main/3.2.0/hadoop-main-3.2.0.jar\n",
      "\n",
      "\tSERVER ERROR: Bad Gateway url=https://dl.bintray.com/spark-packages/maven/org/apache/hadoop/hadoop-project/3.2.0/hadoop-project-3.2.0.jar\n",
      "\n",
      "\tSERVER ERROR: Bad Gateway url=https://dl.bintray.com/spark-packages/maven/com/amazonaws/aws-java-sdk-pom/1.11.603/aws-java-sdk-pom-1.11.603.jar\n",
      "\n",
      "\tSERVER ERROR: Bad Gateway url=https://dl.bintray.com/spark-packages/maven/org/apache/apache/13/apache-13.jar\n",
      "\n",
      "\tSERVER ERROR: Bad Gateway url=https://dl.bintray.com/spark-packages/maven/org/apache/commons/commons-parent/28/commons-parent-28.jar\n",
      "\n",
      "\tSERVER ERROR: Bad Gateway url=https://dl.bintray.com/spark-packages/maven/org/apache/apache/21/apache-21.jar\n",
      "\n",
      "\tSERVER ERROR: Bad Gateway url=https://dl.bintray.com/spark-packages/maven/org/apache/httpcomponents/httpcomponents-parent/11/httpcomponents-parent-11.jar\n",
      "\n",
      "\tSERVER ERROR: Bad Gateway url=https://dl.bintray.com/spark-packages/maven/org/apache/httpcomponents/httpcomponents-client/4.5.9/httpcomponents-client-4.5.9.jar\n",
      "\n",
      "\tSERVER ERROR: Bad Gateway url=https://dl.bintray.com/spark-packages/maven/org/apache/httpcomponents/httpcomponents-core/4.4.11/httpcomponents-core-4.4.11.jar\n",
      "\n",
      "\tSERVER ERROR: Bad Gateway url=https://dl.bintray.com/spark-packages/maven/org/apache/apache/18/apache-18.jar\n",
      "\n",
      "\tSERVER ERROR: Bad Gateway url=https://dl.bintray.com/spark-packages/maven/org/apache/commons/commons-parent/42/commons-parent-42.jar\n",
      "\n",
      "\tSERVER ERROR: Bad Gateway url=https://dl.bintray.com/spark-packages/maven/com/fasterxml/oss-parent/24/oss-parent-24.jar\n",
      "\n",
      "\tSERVER ERROR: Bad Gateway url=https://dl.bintray.com/spark-packages/maven/com/fasterxml/jackson/jackson-parent/2.6.2/jackson-parent-2.6.2.jar\n",
      "\n",
      "\tSERVER ERROR: Bad Gateway url=https://dl.bintray.com/spark-packages/maven/com/fasterxml/oss-parent/23/oss-parent-23.jar\n",
      "\n",
      "\tSERVER ERROR: Bad Gateway url=https://dl.bintray.com/spark-packages/maven/com/fasterxml/jackson/jackson-parent/2.6.1/jackson-parent-2.6.1.jar\n",
      "\n",
      "\tSERVER ERROR: Bad Gateway url=https://dl.bintray.com/spark-packages/maven/org/sonatype/oss/oss-parent/7/oss-parent-7.jar\n",
      "\n",
      "\tSERVER ERROR: Bad Gateway url=https://dl.bintray.com/spark-packages/maven/net/jcip/jcip-annotations/1.0/jcip-annotations-1.0-javadoc.jar\n",
      "\n",
      "\tSERVER ERROR: Bad Gateway url=https://dl.bintray.com/spark-packages/maven/com/google/google/1/google-1.jar\n",
      "\n",
      "\tSERVER ERROR: Bad Gateway url=https://dl.bintray.com/spark-packages/maven/com/google/protobuf/protobuf-parent/3.0.0-beta-3/protobuf-parent-3.0.0-beta-3.jar\n",
      "\n",
      "\tSERVER ERROR: Bad Gateway url=https://dl.bintray.com/spark-packages/maven/com/google/protobuf/protobuf-java-util/3.0.0-beta-3/protobuf-java-util-3.0.0-beta-3-sources.jar\n",
      "\n",
      "\tSERVER ERROR: Bad Gateway url=https://dl.bintray.com/spark-packages/maven/com/google/protobuf/protobuf-java-util/3.0.0-beta-3/protobuf-java-util-3.0.0-beta-3-src.jar\n",
      "\n",
      "\tSERVER ERROR: Bad Gateway url=https://dl.bintray.com/spark-packages/maven/com/google/protobuf/protobuf-java-util/3.0.0-beta-3/protobuf-java-util-3.0.0-beta-3-javadoc.jar\n",
      "\n",
      "\tSERVER ERROR: Bad Gateway url=https://dl.bintray.com/spark-packages/maven/com/google/protobuf/protobuf-java/3.0.0-beta-3/protobuf-java-3.0.0-beta-3-sources.jar\n",
      "\n",
      "\tSERVER ERROR: Bad Gateway url=https://dl.bintray.com/spark-packages/maven/com/google/protobuf/protobuf-java/3.0.0-beta-3/protobuf-java-3.0.0-beta-3-src.jar\n",
      "\n",
      "\tSERVER ERROR: Bad Gateway url=https://dl.bintray.com/spark-packages/maven/com/google/protobuf/protobuf-java/3.0.0-beta-3/protobuf-java-3.0.0-beta-3-javadoc.jar\n",
      "\n",
      "\tSERVER ERROR: Bad Gateway url=https://dl.bintray.com/spark-packages/maven/org/sonatype/oss/oss-parent/9/oss-parent-9.jar\n",
      "\n",
      "\tSERVER ERROR: Bad Gateway url=https://dl.bintray.com/spark-packages/maven/org/slf4j/slf4j-parent/1.7.21/slf4j-parent-1.7.21.jar\n",
      "\n",
      "\tSERVER ERROR: Bad Gateway url=https://dl.bintray.com/spark-packages/maven/org/tensorflow/parentpom/1.15.0/parentpom-1.15.0.jar\n",
      "\n",
      "\tSERVER ERROR: Bad Gateway url=https://dl.bintray.com/spark-packages/maven/org/tensorflow/libtensorflow_jni_gpu/1.15.0/libtensorflow_jni_gpu-1.15.0-sources.jar\n",
      "\n",
      "\tSERVER ERROR: Bad Gateway url=https://dl.bintray.com/spark-packages/maven/org/tensorflow/libtensorflow_jni_gpu/1.15.0/libtensorflow_jni_gpu-1.15.0-src.jar\n",
      "\n",
      "\tSERVER ERROR: Bad Gateway url=https://dl.bintray.com/spark-packages/maven/org/tensorflow/libtensorflow_jni_gpu/1.15.0/libtensorflow_jni_gpu-1.15.0-javadoc.jar\n",
      "\n",
      "\n",
      ":: USE VERBOSE OR DEBUG MESSAGE LEVEL FOR MORE DETAILS\n",
      ":: retrieving :: org.apache.spark#spark-submit-parent-3115d348-41aa-403e-97db-80e70a2521b1\n",
      "\tconfs: [default]\n",
      "\t35 artifacts copied, 0 already retrieved (465296kB/412ms)\n",
      "22/11/13 06:09:58 WARN NativeCodeLoader: Unable to load native-hadoop library for your platform... using builtin-java classes where applicable\n",
      "Using Spark's default log4j profile: org/apache/spark/log4j-defaults.properties\n",
      "Setting default log level to \"WARN\".\n",
      "To adjust logging level use sc.setLogLevel(newLevel). For SparkR, use setLogLevel(newLevel).\n"
     ]
    },
    {
     "name": "stdout",
     "output_type": "stream",
     "text": [
      "Spark NLP version 2.7.1\n",
      "Apache Spark version: 2.4.4\n"
     ]
    },
    {
     "data": {
      "text/html": [
       "\n",
       "            <div>\n",
       "                <p><b>SparkSession - in-memory</b></p>\n",
       "                \n",
       "        <div>\n",
       "            <p><b>SparkContext</b></p>\n",
       "\n",
       "            <p><a href=\"http://342d6acabbec:4040\">Spark UI</a></p>\n",
       "\n",
       "            <dl>\n",
       "              <dt>Version</dt>\n",
       "                <dd><code>v2.4.4</code></dd>\n",
       "              <dt>Master</dt>\n",
       "                <dd><code>local[*]</code></dd>\n",
       "              <dt>AppName</dt>\n",
       "                <dd><code>Spark NLP</code></dd>\n",
       "            </dl>\n",
       "        </div>\n",
       "        \n",
       "            </div>\n",
       "        "
      ],
      "text/plain": [
       "<pyspark.sql.session.SparkSession at 0x7fdf350c5d10>"
      ]
     },
     "execution_count": 2,
     "metadata": {},
     "output_type": "execute_result"
    }
   ],
   "source": [
    "import sparknlp\n",
    "\n",
    "spark = sparknlp.start(gpu = True) # for GPU training >> sparknlp.start(gpu = True) # for Spark 2.3 =>> sparknlp.start(spark23 = True)\n",
    "\n",
    "from sparknlp.base import *\n",
    "from sparknlp.annotator import *\n",
    "from pyspark.ml import Pipeline\n",
    "import pandas as pd\n",
    "\n",
    "print(\"Spark NLP version\", sparknlp.version())\n",
    "\n",
    "print(\"Apache Spark version:\", spark.version)\n",
    "\n",
    "spark"
   ]
  },
  {
   "cell_type": "code",
   "execution_count": 3,
   "id": "7fa20ebc",
   "metadata": {
    "execution": {
     "iopub.execute_input": "2022-11-13T06:10:01.744927Z",
     "iopub.status.busy": "2022-11-13T06:10:01.744329Z",
     "iopub.status.idle": "2022-11-13T06:10:08.909150Z",
     "shell.execute_reply": "2022-11-13T06:10:08.908467Z"
    },
    "id": "IzpG9u0jz0xT",
    "outputId": "7b41b818-24ff-4c85-afb6-0dd059b40c45",
    "papermill": {
     "duration": 7.176432,
     "end_time": "2022-11-13T06:10:08.913029",
     "exception": false,
     "start_time": "2022-11-13T06:10:01.736597",
     "status": "completed"
    },
    "tags": []
   },
   "outputs": [
    {
     "name": "stderr",
     "output_type": "stream",
     "text": [
      "                                                                                \r"
     ]
    },
    {
     "name": "stdout",
     "output_type": "stream",
     "text": [
      "+--------------------------------------------------+--------+\n",
      "|                                       description|category|\n",
      "+--------------------------------------------------+--------+\n",
      "|she say she like me cuz ima real man      no li...|       5|\n",
      "|babygirl as jiggling dropping it low doing the ...|       1|\n",
      "|my only talent is being able to do both the uwu...|       2|\n",
      "|sobie ade buat postage rini pat pat jom all rea...|       2|\n",
      "|i should make a video on that can it be top num...|       1|\n",
      "| you can really pull off both cutesy and sexy huh |       2|\n",
      "|yeah i m still trying to understand what the he...|       6|\n",
      "|politics ha no place in professional sports  pe...|       3|\n",
      "|i would have if i wasn t spoiled by it s ending...|       4|\n",
      "|it s always great to see the bivouac  it does n...|       5|\n",
      "|bruh when i don t have the kid i m up so early ...|       4|\n",
      "|this is so real tho i ll rlly be dying doing ha...|       7|\n",
      "|infact i just noticed the views k am like who a...|       7|\n",
      "|just set my hair appointment and the soonest da...|       1|\n",
      "|taking my mum to the hospital for her nd vaccin...|       7|\n",
      "|is it normal to release the sampler on d number...|       4|\n",
      "|thai tea is my always go to  but i love banana ...|       2|\n",
      "|just switched to mongraal sen and it feel so go...|       1|\n",
      "|it s like i want to talk to people about the sh...|       1|\n",
      "|don t ever try to speak fear into my plan think...|       5|\n",
      "+--------------------------------------------------+--------+\n",
      "only showing top 20 rows\n",
      "\n"
     ]
    }
   ],
   "source": [
    "df = spark.read \\\n",
    "      .option(\"header\", True) \\\n",
    "      .csv(\"../input/twitter-without-punc/train_twitter_no_punc.csv\")\n",
    "df.show(truncate=50)"
   ]
  },
  {
   "cell_type": "code",
   "execution_count": 4,
   "id": "87cc1ac6",
   "metadata": {
    "execution": {
     "iopub.execute_input": "2022-11-13T06:10:08.927643Z",
     "iopub.status.busy": "2022-11-13T06:10:08.927123Z",
     "iopub.status.idle": "2022-11-13T06:10:11.485902Z",
     "shell.execute_reply": "2022-11-13T06:10:11.485002Z"
    },
    "id": "MLvsrmah6r0K",
    "outputId": "0dc88c17-16eb-4c97-d4a8-ea58bfcc217e",
    "papermill": {
     "duration": 2.571461,
     "end_time": "2022-11-13T06:10:11.490987",
     "exception": false,
     "start_time": "2022-11-13T06:10:08.919526",
     "status": "completed"
    },
    "tags": []
   },
   "outputs": [
    {
     "name": "stderr",
     "output_type": "stream",
     "text": [
      "[Stage 3:==============================================>        (169 + 5) / 200]"
     ]
    },
    {
     "name": "stdout",
     "output_type": "stream",
     "text": [
      "+--------+-----+\n",
      "|category|count|\n",
      "+--------+-----+\n",
      "|       4|17343|\n",
      "|       1|17315|\n",
      "|       5|17294|\n",
      "|       7|17272|\n",
      "|       3|17240|\n",
      "|       6|17208|\n",
      "|       2|17184|\n",
      "+--------+-----+\n",
      "\n"
     ]
    },
    {
     "name": "stderr",
     "output_type": "stream",
     "text": [
      "                                                                                \r"
     ]
    }
   ],
   "source": [
    "from pyspark.sql.functions import col\n",
    "df.groupBy(\"category\") \\\n",
    "    .count() \\\n",
    "    .orderBy(col(\"count\").desc()) \\\n",
    "    .show()"
   ]
  },
  {
   "cell_type": "code",
   "execution_count": 5,
   "id": "3a116ba0",
   "metadata": {
    "execution": {
     "iopub.execute_input": "2022-11-13T06:10:11.511554Z",
     "iopub.status.busy": "2022-11-13T06:10:11.511155Z",
     "iopub.status.idle": "2022-11-13T06:10:13.036820Z",
     "shell.execute_reply": "2022-11-13T06:10:13.035560Z"
    },
    "id": "640z0f8u6138",
    "outputId": "a93d9e5b-973e-45f5-fb11-ec0129774819",
    "papermill": {
     "duration": 1.540265,
     "end_time": "2022-11-13T06:10:13.040781",
     "exception": false,
     "start_time": "2022-11-13T06:10:11.500516",
     "status": "completed"
    },
    "tags": []
   },
   "outputs": [
    {
     "name": "stderr",
     "output_type": "stream",
     "text": [
      "                                                                                \r"
     ]
    },
    {
     "name": "stdout",
     "output_type": "stream",
     "text": [
      "Training Dataset Count: 84714\n",
      "Validation Dataset Count: 36142\n"
     ]
    }
   ],
   "source": [
    "(train_df, val_df) = df.randomSplit([0.7, 0.3], seed = 8)\n",
    "print(\"Training Dataset Count: \" + str(train_df.count()))\n",
    "print(\"Validation Dataset Count: \" + str(val_df.count()))"
   ]
  },
  {
   "cell_type": "code",
   "execution_count": 6,
   "id": "93026bb9",
   "metadata": {
    "execution": {
     "iopub.execute_input": "2022-11-13T06:10:13.060768Z",
     "iopub.status.busy": "2022-11-13T06:10:13.060350Z",
     "iopub.status.idle": "2022-11-13T06:10:40.203546Z",
     "shell.execute_reply": "2022-11-13T06:10:40.202469Z"
    },
    "id": "0X-he2WZ66-K",
    "outputId": "acfc1cb8-6e64-4bc5-a616-03e8763aa013",
    "papermill": {
     "duration": 27.155734,
     "end_time": "2022-11-13T06:10:40.205870",
     "exception": false,
     "start_time": "2022-11-13T06:10:13.050136",
     "status": "completed"
    },
    "tags": []
   },
   "outputs": [
    {
     "name": "stdout",
     "output_type": "stream",
     "text": [
      "sent_bert_base_cased download started this may take some time.\n"
     ]
    },
    {
     "name": "stderr",
     "output_type": "stream",
     "text": [
      "22/11/13 06:10:13 WARN ApacheUtils: NoSuchMethodError was thrown when disabling normalizeUri. This indicates you are using an old version (< 4.5.8) of Apache http client. It is recommended to use http client version >= 4.5.9 to avoid the breaking change introduced in apache client 4.5.7 and the latency in exception handling. See https://github.com/aws/aws-sdk-java/issues/1919 for more information\n",
      "22/11/13 06:10:13 WARN ApacheUtils: NoSuchMethodError was thrown when disabling normalizeUri. This indicates you are using an old version (< 4.5.8) of Apache http client. It is recommended to use http client version >= 4.5.9 to avoid the breaking change introduced in apache client 4.5.7 and the latency in exception handling. See https://github.com/aws/aws-sdk-java/issues/1919 for more information\n"
     ]
    },
    {
     "name": "stdout",
     "output_type": "stream",
     "text": [
      "Approximate size to download 389.1 MB\n",
      "[ | ]"
     ]
    },
    {
     "name": "stderr",
     "output_type": "stream",
     "text": [
      "22/11/13 06:10:15 WARN ApacheUtils: NoSuchMethodError was thrown when disabling normalizeUri. This indicates you are using an old version (< 4.5.8) of Apache http client. It is recommended to use http client version >= 4.5.9 to avoid the breaking change introduced in apache client 4.5.7 and the latency in exception handling. See https://github.com/aws/aws-sdk-java/issues/1919 for more information\n",
      "22/11/13 06:10:15 WARN ApacheUtils: NoSuchMethodError was thrown when disabling normalizeUri. This indicates you are using an old version (< 4.5.8) of Apache http client. It is recommended to use http client version >= 4.5.9 to avoid the breaking change introduced in apache client 4.5.7 and the latency in exception handling. See https://github.com/aws/aws-sdk-java/issues/1919 for more information\n",
      "22/11/13 06:10:15 WARN ApacheUtils: NoSuchMethodError was thrown when disabling normalizeUri. This indicates you are using an old version (< 4.5.8) of Apache http client. It is recommended to use http client version >= 4.5.9 to avoid the breaking change introduced in apache client 4.5.7 and the latency in exception handling. See https://github.com/aws/aws-sdk-java/issues/1919 for more information\n",
      "22/11/13 06:10:15 WARN ApacheUtils: NoSuchMethodError was thrown when disabling normalizeUri. This indicates you are using an old version (< 4.5.8) of Apache http client. It is recommended to use http client version >= 4.5.9 to avoid the breaking change introduced in apache client 4.5.7 and the latency in exception handling. See https://github.com/aws/aws-sdk-java/issues/1919 for more information\n",
      "22/11/13 06:10:15 WARN ApacheUtils: NoSuchMethodError was thrown when disabling normalizeUri. This indicates you are using an old version (< 4.5.8) of Apache http client. It is recommended to use http client version >= 4.5.9 to avoid the breaking change introduced in apache client 4.5.7 and the latency in exception handling. See https://github.com/aws/aws-sdk-java/issues/1919 for more information\n",
      "22/11/13 06:10:15 WARN ApacheUtils: NoSuchMethodError was thrown when disabling normalizeUri. This indicates you are using an old version (< 4.5.8) of Apache http client. It is recommended to use http client version >= 4.5.9 to avoid the breaking change introduced in apache client 4.5.7 and the latency in exception handling. See https://github.com/aws/aws-sdk-java/issues/1919 for more information\n"
     ]
    },
    {
     "name": "stdout",
     "output_type": "stream",
     "text": [
      "sent_bert_base_cased download started this may take some time.\n"
     ]
    },
    {
     "name": "stderr",
     "output_type": "stream",
     "text": [
      "22/11/13 06:10:15 WARN ApacheUtils: NoSuchMethodError was thrown when disabling normalizeUri. This indicates you are using an old version (< 4.5.8) of Apache http client. It is recommended to use http client version >= 4.5.9 to avoid the breaking change introduced in apache client 4.5.7 and the latency in exception handling. See https://github.com/aws/aws-sdk-java/issues/1919 for more information\n",
      "22/11/13 06:10:15 WARN ApacheUtils: NoSuchMethodError was thrown when disabling normalizeUri. This indicates you are using an old version (< 4.5.8) of Apache http client. It is recommended to use http client version >= 4.5.9 to avoid the breaking change introduced in apache client 4.5.7 and the latency in exception handling. See https://github.com/aws/aws-sdk-java/issues/1919 for more information\n",
      "22/11/13 06:10:15 WARN ApacheUtils: NoSuchMethodError was thrown when disabling normalizeUri. This indicates you are using an old version (< 4.5.8) of Apache http client. It is recommended to use http client version >= 4.5.9 to avoid the breaking change introduced in apache client 4.5.7 and the latency in exception handling. See https://github.com/aws/aws-sdk-java/issues/1919 for more information\n",
      "22/11/13 06:10:15 WARN ApacheUtils: NoSuchMethodError was thrown when disabling normalizeUri. This indicates you are using an old version (< 4.5.8) of Apache http client. It is recommended to use http client version >= 4.5.9 to avoid the breaking change introduced in apache client 4.5.7 and the latency in exception handling. See https://github.com/aws/aws-sdk-java/issues/1919 for more information\n",
      "22/11/13 06:10:15 WARN ApacheUtils: NoSuchMethodError was thrown when disabling normalizeUri. This indicates you are using an old version (< 4.5.8) of Apache http client. It is recommended to use http client version >= 4.5.9 to avoid the breaking change introduced in apache client 4.5.7 and the latency in exception handling. See https://github.com/aws/aws-sdk-java/issues/1919 for more information\n",
      "22/11/13 06:10:15 WARN ApacheUtils: NoSuchMethodError was thrown when disabling normalizeUri. This indicates you are using an old version (< 4.5.8) of Apache http client. It is recommended to use http client version >= 4.5.9 to avoid the breaking change introduced in apache client 4.5.7 and the latency in exception handling. See https://github.com/aws/aws-sdk-java/issues/1919 for more information\n"
     ]
    },
    {
     "name": "stdout",
     "output_type": "stream",
     "text": [
      "Approximate size to download 389.1 MB\n",
      "[ — ]Download done! Loading the resource.\n",
      "[ | ]"
     ]
    },
    {
     "name": "stderr",
     "output_type": "stream",
     "text": [
      "2022-11-13 06:10:37.267942: I tensorflow/core/platform/cpu_feature_guard.cc:142] Your CPU supports instructions that this TensorFlow binary was not compiled to use: AVX2 FMA\n",
      "2022-11-13 06:10:37.276154: I tensorflow/core/platform/profile_utils/cpu_utils.cc:94] CPU Frequency: 2249995000 Hz\n",
      "2022-11-13 06:10:37.276535: I tensorflow/compiler/xla/service/service.cc:168] XLA service 0x7f3be261c950 initialized for platform Host (this does not guarantee that XLA will be used). Devices:\n",
      "2022-11-13 06:10:37.276637: I tensorflow/compiler/xla/service/service.cc:176]   StreamExecutor device (0): Host, Default Version\n",
      "2022-11-13 06:10:37.277123: W tensorflow/stream_executor/platform/default/dso_loader.cc:55] Could not load dynamic library 'libcuda.so.1'; dlerror: libcuda.so.1: cannot open shared object file: No such file or directory; LD_LIBRARY_PATH: /usr/local/cuda/lib64:/usr/local/cuda/lib:/usr/local/lib/x86_64-linux-gnu:/usr/local/nvidia/lib:/usr/local/nvidia/lib64:\n",
      "2022-11-13 06:10:37.277161: E tensorflow/stream_executor/cuda/cuda_driver.cc:318] failed call to cuInit: UNKNOWN ERROR (303)\n",
      "2022-11-13 06:10:37.277191: I tensorflow/stream_executor/cuda/cuda_diagnostics.cc:156] kernel driver does not appear to be running on this host (342d6acabbec): /proc/driver/nvidia/version does not exist\n"
     ]
    },
    {
     "name": "stdout",
     "output_type": "stream",
     "text": [
      "[OK!]\n"
     ]
    }
   ],
   "source": [
    "# actual content is inside description column\n",
    "document = DocumentAssembler() \\\n",
    ".setInputCol(\"description\") \\\n",
    ".setOutputCol(\"document\") \\\n",
    ".setCleanupMode(\"shrink\")\n",
    "\n",
    "bert = BertSentenceEmbeddings.pretrained('sent_bert_base_cased') \\\n",
    ".setInputCols(\"document\") \\\n",
    ".setOutputCol(\"bert_sentence_embeddings\") \\\n",
    ".setLazyAnnotator(False)\n",
    "\n",
    "# the classes/labels/categories are in category column\n",
    "classifierdl = ClassifierDLApproach()\\\n",
    ".setInputCols([\"bert_sentence_embeddings\"])\\\n",
    ".setOutputCol(\"class\")\\\n",
    ".setLabelColumn(\"category\")\\\n",
    ".setMaxEpochs(4)\\\n",
    ".setLr(0.001)\\\n",
    ".setBatchSize(64)\\\n",
    ".setEnableOutputLogs(True)\n",
    "#.setOutputLogsPath('logs')\n",
    "\n",
    "pipeline = Pipeline(\n",
    "    stages = [\n",
    "        document,\n",
    "        bert,\n",
    "        classifierdl\n",
    "    ])"
   ]
  },
  {
   "cell_type": "code",
   "execution_count": 7,
   "id": "946b421f",
   "metadata": {
    "execution": {
     "iopub.execute_input": "2022-11-13T06:10:40.229957Z",
     "iopub.status.busy": "2022-11-13T06:10:40.229605Z",
     "iopub.status.idle": "2022-11-13T07:12:43.796583Z",
     "shell.execute_reply": "2022-11-13T07:12:43.795524Z"
    },
    "id": "wmNZXUcO7LC4",
    "outputId": "e857445e-063f-41e2-b538-5b72d960971a",
    "papermill": {
     "duration": 3723.581733,
     "end_time": "2022-11-13T07:12:43.798790",
     "exception": false,
     "start_time": "2022-11-13T06:10:40.217057",
     "status": "completed"
    },
    "tags": []
   },
   "outputs": [
    {
     "name": "stderr",
     "output_type": "stream",
     "text": [
      "2022-11-13 06:10:42.898148: I tensorflow/cc/saved_model/reader.cc:31] Reading SavedModel from: /tmp/146e861e1d8c_classifier_dl1742714204403705900\n",
      "2022-11-13 06:10:42.948942: I tensorflow/cc/saved_model/reader.cc:54] Reading meta graph with tags { serve }\n",
      "2022-11-13 06:10:43.628494: I tensorflow/cc/saved_model/loader.cc:202] Restoring SavedModel bundle.\n",
      "2022-11-13 06:10:45.200464: I tensorflow/cc/saved_model/loader.cc:151] Running initialization op on SavedModel bundle at path: /tmp/146e861e1d8c_classifier_dl1742714204403705900\n",
      "2022-11-13 06:10:45.721634: I tensorflow/cc/saved_model/loader.cc:311] SavedModel load for tags { serve }; Status: success. Took 2823489 microseconds.\n",
      "                                                                                \r"
     ]
    },
    {
     "name": "stdout",
     "output_type": "stream",
     "text": [
      "Training started - epochs: 4 - learning_rate: 0.001 - batch_size: 64 - training_examples: 84714 - classes: 7\n",
      "Epoch 1/4 - 18.83s - loss: 2475.1833 - acc: 0.27000436 - batches: 1324\n",
      "Epoch 2/4 - 17.64s - loss: 2455.1409 - acc: 0.29503596 - batches: 1324\n",
      "Epoch 3/4 - 17.53s - loss: 2451.928 - acc: 0.3015496 - batches: 1324\n",
      "Epoch 4/4 - 17.52s - loss: 2449.6267 - acc: 0.3062619 - batches: 1324\n",
      "CPU times: user 744 ms, sys: 411 ms, total: 1.16 s\n",
      "Wall time: 1h 2min 3s\n"
     ]
    }
   ],
   "source": [
    "%%time\n",
    "pipelineModel = pipeline.fit(train_df)"
   ]
  },
  {
   "cell_type": "code",
   "execution_count": 8,
   "id": "02bb845c",
   "metadata": {
    "execution": {
     "iopub.execute_input": "2022-11-13T07:12:43.826024Z",
     "iopub.status.busy": "2022-11-13T07:12:43.825357Z",
     "iopub.status.idle": "2022-11-13T07:12:43.981245Z",
     "shell.execute_reply": "2022-11-13T07:12:43.980085Z"
    },
    "id": "A8JPUtPO7NzY",
    "papermill": {
     "duration": 0.17307,
     "end_time": "2022-11-13T07:12:43.984369",
     "exception": false,
     "start_time": "2022-11-13T07:12:43.811299",
     "status": "completed"
    },
    "tags": []
   },
   "outputs": [],
   "source": [
    "# get the predictions on validation Set\n",
    "\n",
    "preds = pipelineModel.transform(val_df)"
   ]
  },
  {
   "cell_type": "code",
   "execution_count": 9,
   "id": "8f300683",
   "metadata": {
    "execution": {
     "iopub.execute_input": "2022-11-13T07:12:44.029138Z",
     "iopub.status.busy": "2022-11-13T07:12:44.019161Z",
     "iopub.status.idle": "2022-11-13T07:12:47.959713Z",
     "shell.execute_reply": "2022-11-13T07:12:47.958727Z"
    },
    "id": "CjJFen8q7O83",
    "outputId": "2dd3218d-5541-438e-e51a-486b51f80792",
    "papermill": {
     "duration": 3.961169,
     "end_time": "2022-11-13T07:12:47.962608",
     "exception": false,
     "start_time": "2022-11-13T07:12:44.001439",
     "status": "completed"
    },
    "tags": []
   },
   "outputs": [
    {
     "name": "stderr",
     "output_type": "stream",
     "text": [
      "[Stage 14:>                                                         (0 + 1) / 1]"
     ]
    },
    {
     "name": "stdout",
     "output_type": "stream",
     "text": [
      "+----------------------------------------------------------------------------------------------------+--------+------+\n",
      "|                                                                                         description|category|result|\n",
      "+----------------------------------------------------------------------------------------------------+--------+------+\n",
      "|              good looking car back in the day and now  nice example  would be a fun little ride dr |       1|   [5]|\n",
      "|                  pandemic or not ya don t need to be up someone ass  give them their personal space|       3|   [5]|\n",
      "|                           the fact that i also have friend who live out here but will still not see|       2|   [1]|\n",
      "|                                                   i cant believe you came to meet me on the roof   |       7|   [1]|\n",
      "|    i swear i am gonna draw a reaction emote of my character for specific case of stupidity like ...|       3|   [7]|\n",
      "|                                              im literally so done watch my follower go down again  |       1|   [5]|\n",
      "|            listen     they both have a famous dad figure and are shy but very bold at the same time|       4|   [2]|\n",
      "|    number headlight are better than number  when the people around you are on the same page it h...|       5|   [2]|\n",
      "|                    tryna keep him cause i found him and let a hoe know i aint motherfucking sharing|       3|   [3]|\n",
      "|                             well thank god we sure would hope so with all that dick riding y all do|       4|   [5]|\n",
      "+----------------------------------------------------------------------------------------------------+--------+------+\n",
      "only showing top 10 rows\n",
      "\n"
     ]
    },
    {
     "name": "stderr",
     "output_type": "stream",
     "text": [
      "                                                                                \r"
     ]
    }
   ],
   "source": [
    "preds.select('description','category',\"class.result\").show(10, truncate=100)"
   ]
  },
  {
   "cell_type": "code",
   "execution_count": 10,
   "id": "22c0df7a",
   "metadata": {
    "execution": {
     "iopub.execute_input": "2022-11-13T07:12:47.989212Z",
     "iopub.status.busy": "2022-11-13T07:12:47.988815Z",
     "iopub.status.idle": "2022-11-13T07:38:46.435128Z",
     "shell.execute_reply": "2022-11-13T07:38:46.433964Z"
    },
    "id": "MlduuxDV7Vjq",
    "papermill": {
     "duration": 1558.462119,
     "end_time": "2022-11-13T07:38:46.437448",
     "exception": false,
     "start_time": "2022-11-13T07:12:47.975329",
     "status": "completed"
    },
    "tags": []
   },
   "outputs": [
    {
     "name": "stderr",
     "output_type": "stream",
     "text": [
      "                                                                                \r"
     ]
    }
   ],
   "source": [
    "preds_df = preds.select('description','category',\"class.result\").toPandas()\n",
    "\n",
    "# The result is an array since in Spark NLP you can have multiple sentences.\n",
    "# Let's explode the array and get the item(s) inside of result column out\n",
    "preds_df['result'] = preds_df['result'].apply(lambda x : x[0])"
   ]
  },
  {
   "cell_type": "code",
   "execution_count": 11,
   "id": "d5b03f89",
   "metadata": {
    "execution": {
     "iopub.execute_input": "2022-11-13T07:38:46.467943Z",
     "iopub.status.busy": "2022-11-13T07:38:46.467016Z",
     "iopub.status.idle": "2022-11-13T07:38:46.485253Z",
     "shell.execute_reply": "2022-11-13T07:38:46.484326Z"
    },
    "papermill": {
     "duration": 0.036021,
     "end_time": "2022-11-13T07:38:46.487308",
     "exception": false,
     "start_time": "2022-11-13T07:38:46.451287",
     "status": "completed"
    },
    "tags": []
   },
   "outputs": [
    {
     "data": {
      "text/html": [
       "<div>\n",
       "<style scoped>\n",
       "    .dataframe tbody tr th:only-of-type {\n",
       "        vertical-align: middle;\n",
       "    }\n",
       "\n",
       "    .dataframe tbody tr th {\n",
       "        vertical-align: top;\n",
       "    }\n",
       "\n",
       "    .dataframe thead th {\n",
       "        text-align: right;\n",
       "    }\n",
       "</style>\n",
       "<table border=\"1\" class=\"dataframe\">\n",
       "  <thead>\n",
       "    <tr style=\"text-align: right;\">\n",
       "      <th></th>\n",
       "      <th>description</th>\n",
       "      <th>category</th>\n",
       "      <th>result</th>\n",
       "    </tr>\n",
       "  </thead>\n",
       "  <tbody>\n",
       "    <tr>\n",
       "      <th>0</th>\n",
       "      <td>good looking car back in the day and n...</td>\n",
       "      <td>1</td>\n",
       "      <td>5</td>\n",
       "    </tr>\n",
       "    <tr>\n",
       "      <th>1</th>\n",
       "      <td>pandemic or not ya don t need to be up s...</td>\n",
       "      <td>3</td>\n",
       "      <td>5</td>\n",
       "    </tr>\n",
       "    <tr>\n",
       "      <th>2</th>\n",
       "      <td>the fact that i also have friend who liv...</td>\n",
       "      <td>2</td>\n",
       "      <td>1</td>\n",
       "    </tr>\n",
       "    <tr>\n",
       "      <th>3</th>\n",
       "      <td>i cant believe you came to meet me on the ...</td>\n",
       "      <td>7</td>\n",
       "      <td>1</td>\n",
       "    </tr>\n",
       "    <tr>\n",
       "      <th>4</th>\n",
       "      <td>i swear i am gonna draw a reaction emote o...</td>\n",
       "      <td>3</td>\n",
       "      <td>7</td>\n",
       "    </tr>\n",
       "    <tr>\n",
       "      <th>...</th>\n",
       "      <td>...</td>\n",
       "      <td>...</td>\n",
       "      <td>...</td>\n",
       "    </tr>\n",
       "    <tr>\n",
       "      <th>36137</th>\n",
       "      <td>your opinion doesn t really matter either no o...</td>\n",
       "      <td>4</td>\n",
       "      <td>3</td>\n",
       "    </tr>\n",
       "    <tr>\n",
       "      <th>36138</th>\n",
       "      <td>youre blessed with nice voice  even money cant...</td>\n",
       "      <td>1</td>\n",
       "      <td>5</td>\n",
       "    </tr>\n",
       "    <tr>\n",
       "      <th>36139</th>\n",
       "      <td>yours  pls wait for my dm for detail hyusuk sl...</td>\n",
       "      <td>1</td>\n",
       "      <td>2</td>\n",
       "    </tr>\n",
       "    <tr>\n",
       "      <th>36140</th>\n",
       "      <td>yuzu s safely returned to japan now to hope he...</td>\n",
       "      <td>5</td>\n",
       "      <td>1</td>\n",
       "    </tr>\n",
       "    <tr>\n",
       "      <th>36141</th>\n",
       "      <td>zaga getting run out of the gym early did not ...</td>\n",
       "      <td>7</td>\n",
       "      <td>3</td>\n",
       "    </tr>\n",
       "  </tbody>\n",
       "</table>\n",
       "<p>36142 rows × 3 columns</p>\n",
       "</div>"
      ],
      "text/plain": [
       "                                             description category result\n",
       "0              good looking car back in the day and n...        1      5\n",
       "1            pandemic or not ya don t need to be up s...        3      5\n",
       "2            the fact that i also have friend who liv...        2      1\n",
       "3          i cant believe you came to meet me on the ...        7      1\n",
       "4          i swear i am gonna draw a reaction emote o...        3      7\n",
       "...                                                  ...      ...    ...\n",
       "36137  your opinion doesn t really matter either no o...        4      3\n",
       "36138  youre blessed with nice voice  even money cant...        1      5\n",
       "36139  yours  pls wait for my dm for detail hyusuk sl...        1      2\n",
       "36140  yuzu s safely returned to japan now to hope he...        5      1\n",
       "36141  zaga getting run out of the gym early did not ...        7      3\n",
       "\n",
       "[36142 rows x 3 columns]"
      ]
     },
     "execution_count": 11,
     "metadata": {},
     "output_type": "execute_result"
    }
   ],
   "source": [
    "preds_df"
   ]
  },
  {
   "cell_type": "code",
   "execution_count": 12,
   "id": "2a0e5b6f",
   "metadata": {
    "execution": {
     "iopub.execute_input": "2022-11-13T07:38:46.517785Z",
     "iopub.status.busy": "2022-11-13T07:38:46.517095Z",
     "iopub.status.idle": "2022-11-13T07:38:48.342064Z",
     "shell.execute_reply": "2022-11-13T07:38:48.340878Z"
    },
    "id": "iC_DalJs7j3A",
    "outputId": "bb811b2c-6be6-417f-8fc8-129cec70e1a2",
    "papermill": {
     "duration": 1.843136,
     "end_time": "2022-11-13T07:38:48.344523",
     "exception": false,
     "start_time": "2022-11-13T07:38:46.501387",
     "status": "completed"
    },
    "tags": []
   },
   "outputs": [
    {
     "name": "stderr",
     "output_type": "stream",
     "text": [
      "/opt/conda/lib/python3.7/site-packages/sklearn/metrics/_classification.py:1318: UndefinedMetricWarning: Recall and F-score are ill-defined and being set to 0.0 in labels with no true samples. Use `zero_division` parameter to control this behavior.\n",
      "  _warn_prf(average, modifier, msg_start, len(result))\n"
     ]
    },
    {
     "name": "stdout",
     "output_type": "stream",
     "text": [
      "              precision    recall  f1-score   support\n",
      "\n",
      "           1       0.21      0.21      0.21      5109\n",
      "           2       0.53      0.43      0.48      6147\n",
      "           3       0.38      0.28      0.32      6861\n",
      "           4       0.35      0.27      0.31      6758\n",
      "           5       0.39      0.29      0.33      6976\n",
      "           6       0.00      0.00      0.00         0\n",
      "           7       0.21      0.25      0.23      4291\n",
      "\n",
      "    accuracy                           0.29     36142\n",
      "   macro avg       0.29      0.25      0.27     36142\n",
      "weighted avg       0.36      0.29      0.32     36142\n",
      "\n"
     ]
    },
    {
     "name": "stderr",
     "output_type": "stream",
     "text": [
      "/opt/conda/lib/python3.7/site-packages/sklearn/metrics/_classification.py:1318: UndefinedMetricWarning: Recall and F-score are ill-defined and being set to 0.0 in labels with no true samples. Use `zero_division` parameter to control this behavior.\n",
      "  _warn_prf(average, modifier, msg_start, len(result))\n",
      "/opt/conda/lib/python3.7/site-packages/sklearn/metrics/_classification.py:1318: UndefinedMetricWarning: Recall and F-score are ill-defined and being set to 0.0 in labels with no true samples. Use `zero_division` parameter to control this behavior.\n",
      "  _warn_prf(average, modifier, msg_start, len(result))\n"
     ]
    }
   ],
   "source": [
    "# We are going to use sklearn to evalute the results on test dataset\n",
    "from sklearn.metrics import classification_report\n",
    "\n",
    "print (classification_report(preds_df['result'], preds_df['category']))"
   ]
  },
  {
   "cell_type": "code",
   "execution_count": 13,
   "id": "c15b5fb8",
   "metadata": {
    "execution": {
     "iopub.execute_input": "2022-11-13T07:38:48.382204Z",
     "iopub.status.busy": "2022-11-13T07:38:48.380939Z",
     "iopub.status.idle": "2022-11-13T07:41:52.354276Z",
     "shell.execute_reply": "2022-11-13T07:41:52.351155Z"
    },
    "papermill": {
     "duration": 183.99656,
     "end_time": "2022-11-13T07:41:52.359809",
     "exception": false,
     "start_time": "2022-11-13T07:38:48.363249",
     "status": "completed"
    },
    "tags": []
   },
   "outputs": [
    {
     "name": "stderr",
     "output_type": "stream",
     "text": [
      "22/11/13 07:38:48 WARN TaskSetManager: Stage 19 contains a task of very large size (108 KB). The maximum recommended task size is 100 KB.\n"
     ]
    }
   ],
   "source": [
    "pipelineModel.save(\"./spark-NLP-bert\")"
   ]
  }
 ],
 "metadata": {
  "kernelspec": {
   "display_name": "Python 3",
   "language": "python",
   "name": "python3"
  },
  "language_info": {
   "codemirror_mode": {
    "name": "ipython",
    "version": 3
   },
   "file_extension": ".py",
   "mimetype": "text/x-python",
   "name": "python",
   "nbconvert_exporter": "python",
   "pygments_lexer": "ipython3",
   "version": "3.7.12"
  },
  "papermill": {
   "default_parameters": {},
   "duration": 5599.227755,
   "end_time": "2022-11-13T07:41:55.011986",
   "environment_variables": {},
   "exception": null,
   "input_path": "__notebook__.ipynb",
   "output_path": "__notebook__.ipynb",
   "parameters": {},
   "start_time": "2022-11-13T06:08:35.784231",
   "version": "2.3.4"
  }
 },
 "nbformat": 4,
 "nbformat_minor": 5
}
