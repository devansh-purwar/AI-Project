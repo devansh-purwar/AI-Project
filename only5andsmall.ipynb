{
 "cells": [
  {
   "cell_type": "code",
   "execution_count": 1,
   "id": "10086aa7",
   "metadata": {
    "_cell_guid": "b1076dfc-b9ad-4769-8c92-a6c4dae69d19",
    "_uuid": "8f2839f25d086af736a60e9eeb907d3b93b6e0e5",
    "execution": {
     "iopub.execute_input": "2022-11-18T03:30:10.529213Z",
     "iopub.status.busy": "2022-11-18T03:30:10.528508Z",
     "iopub.status.idle": "2022-11-18T03:30:10.553871Z",
     "shell.execute_reply": "2022-11-18T03:30:10.552562Z"
    },
    "papermill": {
     "duration": 0.03785,
     "end_time": "2022-11-18T03:30:10.557378",
     "exception": false,
     "start_time": "2022-11-18T03:30:10.519528",
     "status": "completed"
    },
    "tags": []
   },
   "outputs": [
    {
     "name": "stdout",
     "output_type": "stream",
     "text": [
      "/kaggle/input/emojis5/train_emoji.csv\n",
      "/kaggle/input/emojis5/test_emoji.csv\n",
      "/kaggle/input/glove6b50dtxt/glove.6B.50d.txt\n"
     ]
    }
   ],
   "source": [
    "# This Python 3 environment comes with many helpful analytics libraries installed\n",
    "# It is defined by the kaggle/python Docker image: https://github.com/kaggle/docker-python\n",
    "# For example, here's several helpful packages to load\n",
    "\n",
    "import numpy as np # linear algebra\n",
    "import pandas as pd # data processing, CSV file I/O (e.g. pd.read_csv)\n",
    "\n",
    "# Input data files are available in the read-only \"../input/\" directory\n",
    "# For example, running this (by clicking run or pressing Shift+Enter) will list all files under the input directory\n",
    "\n",
    "import os\n",
    "for dirname, _, filenames in os.walk('/kaggle/input'):\n",
    "    for filename in filenames:\n",
    "        print(os.path.join(dirname, filename))\n",
    "\n",
    "# You can write up to 20GB to the current directory (/kaggle/working/) that gets preserved as output when you create a version using \"Save & Run All\" \n",
    "# You can also write temporary files to /kaggle/temp/, but they won't be saved outside of the current session"
   ]
  },
  {
   "cell_type": "code",
   "execution_count": 2,
   "id": "662f7780",
   "metadata": {
    "execution": {
     "iopub.execute_input": "2022-11-18T03:30:10.572120Z",
     "iopub.status.busy": "2022-11-18T03:30:10.571177Z",
     "iopub.status.idle": "2022-11-18T03:30:18.028403Z",
     "shell.execute_reply": "2022-11-18T03:30:18.027048Z"
    },
    "papermill": {
     "duration": 7.468533,
     "end_time": "2022-11-18T03:30:18.031800",
     "exception": false,
     "start_time": "2022-11-18T03:30:10.563267",
     "status": "completed"
    },
    "tags": []
   },
   "outputs": [
    {
     "name": "stdout",
     "output_type": "stream",
     "text": [
      "Imports ready !\n"
     ]
    }
   ],
   "source": [
    "import emoji\n",
    "import pandas as pd\n",
    "import numpy as np\n",
    "\n",
    "from tensorflow.keras.utils import to_categorical\n",
    "\n",
    "from keras.layers import *\n",
    "from keras.models import Sequential\n",
    "\n",
    "print('Imports ready !')"
   ]
  },
  {
   "cell_type": "code",
   "execution_count": 3,
   "id": "f3304991",
   "metadata": {
    "execution": {
     "iopub.execute_input": "2022-11-18T03:30:18.051430Z",
     "iopub.status.busy": "2022-11-18T03:30:18.050530Z",
     "iopub.status.idle": "2022-11-18T03:30:18.080377Z",
     "shell.execute_reply": "2022-11-18T03:30:18.078886Z"
    },
    "papermill": {
     "duration": 0.042766,
     "end_time": "2022-11-18T03:30:18.083475",
     "exception": false,
     "start_time": "2022-11-18T03:30:18.040709",
     "status": "completed"
    },
    "tags": []
   },
   "outputs": [
    {
     "name": "stdout",
     "output_type": "stream",
     "text": [
      "(132, 4)   (56, 2)\n"
     ]
    }
   ],
   "source": [
    "train = pd.read_csv('../input/emojis5/train_emoji.csv', header = None)\n",
    "test = pd.read_csv('../input/emojis5/test_emoji.csv', header = None)\n",
    "\n",
    "print(train.shape, \" \", test.shape)"
   ]
  },
  {
   "cell_type": "code",
   "execution_count": 4,
   "id": "4d6c8f0b",
   "metadata": {
    "execution": {
     "iopub.execute_input": "2022-11-18T03:30:18.097941Z",
     "iopub.status.busy": "2022-11-18T03:30:18.097387Z",
     "iopub.status.idle": "2022-11-18T03:30:18.104355Z",
     "shell.execute_reply": "2022-11-18T03:30:18.102879Z"
    },
    "papermill": {
     "duration": 0.017684,
     "end_time": "2022-11-18T03:30:18.107197",
     "exception": false,
     "start_time": "2022-11-18T03:30:18.089513",
     "status": "completed"
    },
    "tags": []
   },
   "outputs": [],
   "source": [
    "emoji_dictionary = {\"0\": \"\\u2764\\uFE0F\",    # :heart: prints a black instead of red heart depending on the font\n",
    "                    \"1\": \":baseball:\",\n",
    "                    \"2\": \":beaming_face_with_smiling_eyes:\",\n",
    "                    \"3\": \":downcast_face_with_sweat:\",\n",
    "                    \"4\": \":fork_and_knife:\",\n",
    "                   }"
   ]
  },
  {
   "cell_type": "code",
   "execution_count": 5,
   "id": "e1235bdc",
   "metadata": {
    "execution": {
     "iopub.execute_input": "2022-11-18T03:30:18.122600Z",
     "iopub.status.busy": "2022-11-18T03:30:18.121693Z",
     "iopub.status.idle": "2022-11-18T03:30:18.135599Z",
     "shell.execute_reply": "2022-11-18T03:30:18.134066Z"
    },
    "papermill": {
     "duration": 0.025064,
     "end_time": "2022-11-18T03:30:18.138707",
     "exception": false,
     "start_time": "2022-11-18T03:30:18.113643",
     "status": "completed"
    },
    "tags": []
   },
   "outputs": [
    {
     "data": {
      "text/plain": [
       "{'0': '❤️',\n",
       " '1': ':baseball:',\n",
       " '2': ':beaming_face_with_smiling_eyes:',\n",
       " '3': ':downcast_face_with_sweat:',\n",
       " '4': ':fork_and_knife:'}"
      ]
     },
     "execution_count": 5,
     "metadata": {},
     "output_type": "execute_result"
    }
   ],
   "source": [
    "emoji_dictionary"
   ]
  },
  {
   "cell_type": "code",
   "execution_count": 6,
   "id": "ef876aad",
   "metadata": {
    "execution": {
     "iopub.execute_input": "2022-11-18T03:30:18.154117Z",
     "iopub.status.busy": "2022-11-18T03:30:18.153524Z",
     "iopub.status.idle": "2022-11-18T03:30:18.163311Z",
     "shell.execute_reply": "2022-11-18T03:30:18.161865Z"
    },
    "papermill": {
     "duration": 0.021153,
     "end_time": "2022-11-18T03:30:18.166460",
     "exception": false,
     "start_time": "2022-11-18T03:30:18.145307",
     "status": "completed"
    },
    "tags": []
   },
   "outputs": [],
   "source": [
    "x_train = train.values[:, 0]\n",
    "y_train = to_categorical(train.values[:, 1])\n",
    "\n",
    "x_test = test.values[:, 0]\n",
    "y_test = to_categorical(test.values[:, 1])"
   ]
  },
  {
   "cell_type": "code",
   "execution_count": 7,
   "id": "e6d47fd0",
   "metadata": {
    "execution": {
     "iopub.execute_input": "2022-11-18T03:30:18.186956Z",
     "iopub.status.busy": "2022-11-18T03:30:18.186506Z",
     "iopub.status.idle": "2022-11-18T03:30:18.194259Z",
     "shell.execute_reply": "2022-11-18T03:30:18.193262Z"
    },
    "papermill": {
     "duration": 0.022115,
     "end_time": "2022-11-18T03:30:18.197353",
     "exception": false,
     "start_time": "2022-11-18T03:30:18.175238",
     "status": "completed"
    },
    "tags": []
   },
   "outputs": [
    {
     "data": {
      "text/plain": [
       "array([[0., 0., 0., 1., 0.],\n",
       "       [0., 0., 1., 0., 0.],\n",
       "       [0., 0., 0., 1., 0.],\n",
       "       [1., 0., 0., 0., 0.],\n",
       "       [0., 0., 0., 0., 1.]], dtype=float32)"
      ]
     },
     "execution_count": 7,
     "metadata": {},
     "output_type": "execute_result"
    }
   ],
   "source": [
    "y_train[0:5]"
   ]
  },
  {
   "cell_type": "code",
   "execution_count": 8,
   "id": "521d32aa",
   "metadata": {
    "execution": {
     "iopub.execute_input": "2022-11-18T03:30:18.216758Z",
     "iopub.status.busy": "2022-11-18T03:30:18.216279Z",
     "iopub.status.idle": "2022-11-18T03:30:23.817942Z",
     "shell.execute_reply": "2022-11-18T03:30:23.816572Z"
    },
    "papermill": {
     "duration": 5.615118,
     "end_time": "2022-11-18T03:30:23.821209",
     "exception": false,
     "start_time": "2022-11-18T03:30:18.206091",
     "status": "completed"
    },
    "tags": []
   },
   "outputs": [],
   "source": [
    "embeddings = {}\n",
    "with open('../input/glove6b50dtxt/glove.6B.50d.txt',encoding='utf-8') as f:\n",
    "    for line in f:\n",
    "        values = line.split() # splits the word and coeff\n",
    "        word = values[0] # word\n",
    "        coeffs = np.asarray(values[1:],dtype='float32') # makes a word vector of len 50 for each word\n",
    "        embeddings[word] = coeffs"
   ]
  },
  {
   "cell_type": "code",
   "execution_count": 9,
   "id": "5a3838e3",
   "metadata": {
    "execution": {
     "iopub.execute_input": "2022-11-18T03:30:23.835623Z",
     "iopub.status.busy": "2022-11-18T03:30:23.835139Z",
     "iopub.status.idle": "2022-11-18T03:30:23.842833Z",
     "shell.execute_reply": "2022-11-18T03:30:23.841433Z"
    },
    "papermill": {
     "duration": 0.018062,
     "end_time": "2022-11-18T03:30:23.845470",
     "exception": false,
     "start_time": "2022-11-18T03:30:23.827408",
     "status": "completed"
    },
    "tags": []
   },
   "outputs": [
    {
     "data": {
      "text/plain": [
       "array(['never talk to me again', 'I am proud of your achievements',\n",
       "       'It is the worst day in my life', 'Miss you so much',\n",
       "       'food is life'], dtype=object)"
      ]
     },
     "execution_count": 9,
     "metadata": {},
     "output_type": "execute_result"
    }
   ],
   "source": [
    "x_train[0:5]"
   ]
  },
  {
   "cell_type": "code",
   "execution_count": 10,
   "id": "1e143086",
   "metadata": {
    "execution": {
     "iopub.execute_input": "2022-11-18T03:30:23.862240Z",
     "iopub.status.busy": "2022-11-18T03:30:23.861769Z",
     "iopub.status.idle": "2022-11-18T03:30:23.870982Z",
     "shell.execute_reply": "2022-11-18T03:30:23.869744Z"
    },
    "papermill": {
     "duration": 0.02042,
     "end_time": "2022-11-18T03:30:23.873926",
     "exception": false,
     "start_time": "2022-11-18T03:30:23.853506",
     "status": "completed"
    },
    "tags": []
   },
   "outputs": [],
   "source": [
    "def getOutputEmbeddings(X):\n",
    "    \n",
    "    embedding_matrix_output = np.zeros((X.shape[0],10,50))\n",
    "    for ix in range(X.shape[0]):\n",
    "        X[ix] = X[ix].split() # get a list of words of the sentence\n",
    "        for jx in range(len(X[ix])):\n",
    "            embedding_matrix_output[ix][jx] = embeddings[X[ix][jx].lower()]\n",
    "            \n",
    "    return embedding_matrix_output"
   ]
  },
  {
   "cell_type": "code",
   "execution_count": 11,
   "id": "ca38e75b",
   "metadata": {
    "execution": {
     "iopub.execute_input": "2022-11-18T03:30:23.888785Z",
     "iopub.status.busy": "2022-11-18T03:30:23.888340Z",
     "iopub.status.idle": "2022-11-18T03:30:23.897102Z",
     "shell.execute_reply": "2022-11-18T03:30:23.895975Z"
    },
    "papermill": {
     "duration": 0.019735,
     "end_time": "2022-11-18T03:30:23.899915",
     "exception": false,
     "start_time": "2022-11-18T03:30:23.880180",
     "status": "completed"
    },
    "tags": []
   },
   "outputs": [],
   "source": [
    "emb_x_train = getOutputEmbeddings(x_train)\n",
    "emb_x_test = getOutputEmbeddings(x_test)"
   ]
  },
  {
   "cell_type": "code",
   "execution_count": 12,
   "id": "3741ae4d",
   "metadata": {
    "execution": {
     "iopub.execute_input": "2022-11-18T03:30:23.915781Z",
     "iopub.status.busy": "2022-11-18T03:30:23.914764Z",
     "iopub.status.idle": "2022-11-18T03:30:23.923103Z",
     "shell.execute_reply": "2022-11-18T03:30:23.921704Z"
    },
    "papermill": {
     "duration": 0.019135,
     "end_time": "2022-11-18T03:30:23.925807",
     "exception": false,
     "start_time": "2022-11-18T03:30:23.906672",
     "status": "completed"
    },
    "tags": []
   },
   "outputs": [
    {
     "data": {
      "text/plain": [
       "(132, 10, 50)"
      ]
     },
     "execution_count": 12,
     "metadata": {},
     "output_type": "execute_result"
    }
   ],
   "source": [
    "emb_x_train.shape"
   ]
  },
  {
   "cell_type": "code",
   "execution_count": 13,
   "id": "ab794ebf",
   "metadata": {
    "execution": {
     "iopub.execute_input": "2022-11-18T03:30:23.940738Z",
     "iopub.status.busy": "2022-11-18T03:30:23.940300Z",
     "iopub.status.idle": "2022-11-18T03:30:23.947085Z",
     "shell.execute_reply": "2022-11-18T03:30:23.945818Z"
    },
    "papermill": {
     "duration": 0.017682,
     "end_time": "2022-11-18T03:30:23.949629",
     "exception": false,
     "start_time": "2022-11-18T03:30:23.931947",
     "status": "completed"
    },
    "tags": []
   },
   "outputs": [
    {
     "data": {
      "text/plain": [
       "(56, 10, 50)"
      ]
     },
     "execution_count": 13,
     "metadata": {},
     "output_type": "execute_result"
    }
   ],
   "source": [
    "emb_x_test.shape"
   ]
  },
  {
   "cell_type": "code",
   "execution_count": 14,
   "id": "00608169",
   "metadata": {
    "execution": {
     "iopub.execute_input": "2022-11-18T03:30:23.964137Z",
     "iopub.status.busy": "2022-11-18T03:30:23.963676Z",
     "iopub.status.idle": "2022-11-18T03:30:24.873537Z",
     "shell.execute_reply": "2022-11-18T03:30:24.871567Z"
    },
    "papermill": {
     "duration": 0.921536,
     "end_time": "2022-11-18T03:30:24.877528",
     "exception": false,
     "start_time": "2022-11-18T03:30:23.955992",
     "status": "completed"
    },
    "tags": []
   },
   "outputs": [
    {
     "name": "stderr",
     "output_type": "stream",
     "text": [
      "2022-11-18 03:30:24.004304: I tensorflow/core/common_runtime/process_util.cc:146] Creating new thread pool with default inter op setting: 2. Tune using inter_op_parallelism_threads for best performance.\n"
     ]
    },
    {
     "name": "stdout",
     "output_type": "stream",
     "text": [
      "Model: \"sequential\"\n",
      "_________________________________________________________________\n",
      "Layer (type)                 Output Shape              Param #   \n",
      "=================================================================\n",
      "lstm (LSTM)                  (None, 10, 64)            29440     \n",
      "_________________________________________________________________\n",
      "dropout (Dropout)            (None, 10, 64)            0         \n",
      "_________________________________________________________________\n",
      "lstm_1 (LSTM)                (None, 64)                33024     \n",
      "_________________________________________________________________\n",
      "dropout_1 (Dropout)          (None, 64)                0         \n",
      "_________________________________________________________________\n",
      "dense (Dense)                (None, 5)                 325       \n",
      "_________________________________________________________________\n",
      "activation (Activation)      (None, 5)                 0         \n",
      "=================================================================\n",
      "Total params: 62,789\n",
      "Trainable params: 62,789\n",
      "Non-trainable params: 0\n",
      "_________________________________________________________________\n"
     ]
    }
   ],
   "source": [
    "model = Sequential()\n",
    "model.add(LSTM(64,input_shape = (10,50),return_sequences=True)) # to create a stacked LSTM model\n",
    "model.add(Dropout(0.4))\n",
    "model.add(LSTM(64,input_shape = (10,50)))\n",
    "model.add(Dropout(0.3))\n",
    "model.add(Dense(5))\n",
    "model.add(Activation('softmax'))\n",
    "model.summary()"
   ]
  },
  {
   "cell_type": "code",
   "execution_count": 15,
   "id": "f83dba42",
   "metadata": {
    "execution": {
     "iopub.execute_input": "2022-11-18T03:30:24.893435Z",
     "iopub.status.busy": "2022-11-18T03:30:24.892972Z",
     "iopub.status.idle": "2022-11-18T03:30:36.022854Z",
     "shell.execute_reply": "2022-11-18T03:30:36.021696Z"
    },
    "papermill": {
     "duration": 11.140963,
     "end_time": "2022-11-18T03:30:36.025744",
     "exception": false,
     "start_time": "2022-11-18T03:30:24.884781",
     "status": "completed"
    },
    "tags": []
   },
   "outputs": [
    {
     "name": "stdout",
     "output_type": "stream",
     "text": [
      "Epoch 1/40\n"
     ]
    },
    {
     "name": "stderr",
     "output_type": "stream",
     "text": [
      "2022-11-18 03:30:24.971824: I tensorflow/compiler/mlir/mlir_graph_optimization_pass.cc:185] None of the MLIR Optimization Passes are enabled (registered 2)\n"
     ]
    },
    {
     "name": "stdout",
     "output_type": "stream",
     "text": [
      "4/4 [==============================] - 6s 385ms/step - loss: 1.5775 - acc: 0.2712 - val_loss: 1.5971 - val_acc: 0.2857\n",
      "Epoch 2/40\n",
      "4/4 [==============================] - 0s 38ms/step - loss: 1.5340 - acc: 0.3475 - val_loss: 1.6098 - val_acc: 0.2857\n",
      "Epoch 3/40\n",
      "4/4 [==============================] - 0s 38ms/step - loss: 1.5126 - acc: 0.3475 - val_loss: 1.6396 - val_acc: 0.2857\n",
      "Epoch 4/40\n",
      "4/4 [==============================] - 0s 35ms/step - loss: 1.4732 - acc: 0.3983 - val_loss: 1.6384 - val_acc: 0.1429\n",
      "Epoch 5/40\n",
      "4/4 [==============================] - 0s 33ms/step - loss: 1.4073 - acc: 0.4576 - val_loss: 1.5817 - val_acc: 0.2857\n",
      "Epoch 6/40\n",
      "4/4 [==============================] - 0s 35ms/step - loss: 1.3904 - acc: 0.4492 - val_loss: 1.5210 - val_acc: 0.2857\n",
      "Epoch 7/40\n",
      "4/4 [==============================] - 0s 34ms/step - loss: 1.2951 - acc: 0.5254 - val_loss: 1.4447 - val_acc: 0.2857\n",
      "Epoch 8/40\n",
      "4/4 [==============================] - 0s 34ms/step - loss: 1.2286 - acc: 0.5254 - val_loss: 1.3119 - val_acc: 0.4286\n",
      "Epoch 9/40\n",
      "4/4 [==============================] - 0s 35ms/step - loss: 1.1182 - acc: 0.5678 - val_loss: 1.2421 - val_acc: 0.4286\n",
      "Epoch 10/40\n",
      "4/4 [==============================] - 0s 33ms/step - loss: 1.0047 - acc: 0.6186 - val_loss: 1.1695 - val_acc: 0.5714\n",
      "Epoch 11/40\n",
      "4/4 [==============================] - 0s 34ms/step - loss: 0.8590 - acc: 0.7627 - val_loss: 0.9752 - val_acc: 0.6429\n",
      "Epoch 12/40\n",
      "4/4 [==============================] - 0s 34ms/step - loss: 0.7931 - acc: 0.7458 - val_loss: 0.9763 - val_acc: 0.5000\n",
      "Epoch 13/40\n",
      "4/4 [==============================] - 0s 34ms/step - loss: 0.6682 - acc: 0.7797 - val_loss: 0.7676 - val_acc: 0.5714\n",
      "Epoch 14/40\n",
      "4/4 [==============================] - 0s 35ms/step - loss: 0.6367 - acc: 0.8051 - val_loss: 0.8676 - val_acc: 0.5714\n",
      "Epoch 15/40\n",
      "4/4 [==============================] - 0s 35ms/step - loss: 0.6282 - acc: 0.8051 - val_loss: 0.8096 - val_acc: 0.6429\n",
      "Epoch 16/40\n",
      "4/4 [==============================] - 0s 34ms/step - loss: 0.4521 - acc: 0.8814 - val_loss: 0.8114 - val_acc: 0.6429\n",
      "Epoch 17/40\n",
      "4/4 [==============================] - 0s 34ms/step - loss: 0.4165 - acc: 0.8644 - val_loss: 1.1290 - val_acc: 0.5714\n",
      "Epoch 18/40\n",
      "4/4 [==============================] - 0s 35ms/step - loss: 0.4158 - acc: 0.8729 - val_loss: 0.7623 - val_acc: 0.6429\n",
      "Epoch 19/40\n",
      "4/4 [==============================] - 0s 36ms/step - loss: 0.3364 - acc: 0.9068 - val_loss: 0.9007 - val_acc: 0.7143\n",
      "Epoch 20/40\n",
      "4/4 [==============================] - 0s 37ms/step - loss: 0.3982 - acc: 0.8729 - val_loss: 0.5909 - val_acc: 0.7143\n",
      "Epoch 21/40\n",
      "4/4 [==============================] - 0s 40ms/step - loss: 0.2917 - acc: 0.9237 - val_loss: 0.8485 - val_acc: 0.5714\n",
      "Epoch 22/40\n",
      "4/4 [==============================] - 0s 36ms/step - loss: 0.3915 - acc: 0.8644 - val_loss: 0.8053 - val_acc: 0.7143\n",
      "Epoch 23/40\n",
      "4/4 [==============================] - 0s 36ms/step - loss: 0.2836 - acc: 0.9237 - val_loss: 0.9978 - val_acc: 0.7143\n",
      "Epoch 24/40\n",
      "4/4 [==============================] - 0s 37ms/step - loss: 0.2682 - acc: 0.9322 - val_loss: 0.6888 - val_acc: 0.7143\n",
      "Epoch 25/40\n",
      "4/4 [==============================] - 0s 35ms/step - loss: 0.2221 - acc: 0.9322 - val_loss: 0.7382 - val_acc: 0.6429\n",
      "Epoch 26/40\n",
      "4/4 [==============================] - 0s 35ms/step - loss: 0.1976 - acc: 0.9407 - val_loss: 0.8210 - val_acc: 0.6429\n",
      "Epoch 27/40\n",
      "4/4 [==============================] - 0s 37ms/step - loss: 0.1734 - acc: 0.9492 - val_loss: 0.6061 - val_acc: 0.7143\n",
      "Epoch 28/40\n",
      "4/4 [==============================] - 0s 55ms/step - loss: 0.1843 - acc: 0.9492 - val_loss: 0.6585 - val_acc: 0.7143\n",
      "Epoch 29/40\n",
      "4/4 [==============================] - 0s 40ms/step - loss: 0.1821 - acc: 0.9576 - val_loss: 0.9437 - val_acc: 0.6429\n",
      "Epoch 30/40\n",
      "4/4 [==============================] - 0s 35ms/step - loss: 0.1110 - acc: 0.9661 - val_loss: 0.8009 - val_acc: 0.6429\n",
      "Epoch 31/40\n",
      "4/4 [==============================] - 0s 35ms/step - loss: 0.1283 - acc: 0.9576 - val_loss: 0.9376 - val_acc: 0.6429\n",
      "Epoch 32/40\n",
      "4/4 [==============================] - 0s 34ms/step - loss: 0.1294 - acc: 0.9831 - val_loss: 0.7345 - val_acc: 0.7143\n",
      "Epoch 33/40\n",
      "4/4 [==============================] - 0s 34ms/step - loss: 0.1303 - acc: 0.9661 - val_loss: 0.5477 - val_acc: 0.8571\n",
      "Epoch 34/40\n",
      "4/4 [==============================] - 0s 35ms/step - loss: 0.1311 - acc: 0.9576 - val_loss: 1.0943 - val_acc: 0.6429\n",
      "Epoch 35/40\n",
      "4/4 [==============================] - 0s 35ms/step - loss: 0.1218 - acc: 0.9492 - val_loss: 0.7412 - val_acc: 0.7143\n",
      "Epoch 36/40\n",
      "4/4 [==============================] - 0s 35ms/step - loss: 0.1108 - acc: 0.9576 - val_loss: 0.6507 - val_acc: 0.7143\n",
      "Epoch 37/40\n",
      "4/4 [==============================] - 0s 37ms/step - loss: 0.1451 - acc: 0.9322 - val_loss: 1.1050 - val_acc: 0.6429\n",
      "Epoch 38/40\n",
      "4/4 [==============================] - 0s 36ms/step - loss: 0.0732 - acc: 0.9915 - val_loss: 1.1353 - val_acc: 0.6429\n",
      "Epoch 39/40\n",
      "4/4 [==============================] - 0s 36ms/step - loss: 0.0889 - acc: 0.9746 - val_loss: 0.8727 - val_acc: 0.7143\n",
      "Epoch 40/40\n",
      "4/4 [==============================] - 0s 36ms/step - loss: 0.0497 - acc: 0.9915 - val_loss: 1.1338 - val_acc: 0.6429\n"
     ]
    },
    {
     "data": {
      "text/plain": [
       "<keras.callbacks.History at 0x7f1ed80c2450>"
      ]
     },
     "execution_count": 15,
     "metadata": {},
     "output_type": "execute_result"
    }
   ],
   "source": [
    "model.compile(optimizer='adam',loss='categorical_crossentropy',metrics=['acc'])\n",
    "model.fit(emb_x_train,y_train,batch_size=32,epochs=40,shuffle=True,validation_split=0.1)"
   ]
  },
  {
   "cell_type": "code",
   "execution_count": 16,
   "id": "04294693",
   "metadata": {
    "execution": {
     "iopub.execute_input": "2022-11-18T03:30:36.060954Z",
     "iopub.status.busy": "2022-11-18T03:30:36.060429Z",
     "iopub.status.idle": "2022-11-18T03:30:36.161491Z",
     "shell.execute_reply": "2022-11-18T03:30:36.160089Z"
    },
    "papermill": {
     "duration": 0.122002,
     "end_time": "2022-11-18T03:30:36.164313",
     "exception": false,
     "start_time": "2022-11-18T03:30:36.042311",
     "status": "completed"
    },
    "tags": []
   },
   "outputs": [
    {
     "name": "stdout",
     "output_type": "stream",
     "text": [
      "2/2 [==============================] - 0s 10ms/step - loss: 1.6903 - acc: 0.6071\n"
     ]
    },
    {
     "data": {
      "text/plain": [
       "[1.6902681589126587, 0.6071428656578064]"
      ]
     },
     "execution_count": 16,
     "metadata": {},
     "output_type": "execute_result"
    }
   ],
   "source": [
    "model.evaluate(emb_x_test,y_test)"
   ]
  },
  {
   "cell_type": "code",
   "execution_count": 17,
   "id": "99a3812e",
   "metadata": {
    "execution": {
     "iopub.execute_input": "2022-11-18T03:30:36.198062Z",
     "iopub.status.busy": "2022-11-18T03:30:36.197497Z",
     "iopub.status.idle": "2022-11-18T03:30:37.257911Z",
     "shell.execute_reply": "2022-11-18T03:30:37.256409Z"
    },
    "papermill": {
     "duration": 1.082097,
     "end_time": "2022-11-18T03:30:37.262153",
     "exception": false,
     "start_time": "2022-11-18T03:30:36.180056",
     "status": "completed"
    },
    "tags": []
   },
   "outputs": [],
   "source": [
    "pred = model.predict(emb_x_test)\n",
    "pred=np.argmax(pred,axis=1)"
   ]
  },
  {
   "cell_type": "code",
   "execution_count": 18,
   "id": "944409ab",
   "metadata": {
    "execution": {
     "iopub.execute_input": "2022-11-18T03:30:37.300356Z",
     "iopub.status.busy": "2022-11-18T03:30:37.299011Z",
     "iopub.status.idle": "2022-11-18T03:30:37.313328Z",
     "shell.execute_reply": "2022-11-18T03:30:37.310679Z"
    },
    "papermill": {
     "duration": 0.038063,
     "end_time": "2022-11-18T03:30:37.316881",
     "exception": false,
     "start_time": "2022-11-18T03:30:37.278818",
     "status": "completed"
    },
    "tags": []
   },
   "outputs": [
    {
     "name": "stdout",
     "output_type": "stream",
     "text": [
      "Sentence      : Actual       Prediction\n",
      "I want to eat : 🍴 🍴\n",
      "he did not answer : 😓 😓\n",
      "he got a raise : 😁 😁\n",
      "she got me a present : ❤️ 😁\n",
      "ha ha ha it was so funny : 😁 😁\n",
      "he is a good friend : ❤️ 😁\n",
      "I am upset : ❤️ 😓\n",
      "We had such a lovely dinner tonight : ❤️ 😁\n",
      "where is the food : 🍴 🍴\n",
      "Stop making this joke ha ha ha : 😁 😁\n"
     ]
    }
   ],
   "source": [
    "print(\"Sentence      : Actual       Prediction\")\n",
    "for i in range(10):\n",
    "    print(' '.join(x_test[i]), end = \" : \")\n",
    "    print(emoji.emojize(emoji_dictionary[str(np.argmax(y_test[i]))]), end = \" \")\n",
    "    print(emoji.emojize(emoji_dictionary[str(pred[i])]))"
   ]
  },
  {
   "cell_type": "code",
   "execution_count": null,
   "id": "0be7046f",
   "metadata": {
    "papermill": {
     "duration": 0.015294,
     "end_time": "2022-11-18T03:30:37.349505",
     "exception": false,
     "start_time": "2022-11-18T03:30:37.334211",
     "status": "completed"
    },
    "tags": []
   },
   "outputs": [],
   "source": []
  }
 ],
 "metadata": {
  "kernelspec": {
   "display_name": "Python 3",
   "language": "python",
   "name": "python3"
  },
  "language_info": {
   "codemirror_mode": {
    "name": "ipython",
    "version": 3
   },
   "file_extension": ".py",
   "mimetype": "text/x-python",
   "name": "python",
   "nbconvert_exporter": "python",
   "pygments_lexer": "ipython3",
   "version": "3.7.12"
  },
  "papermill": {
   "default_parameters": {},
   "duration": 40.351768,
   "end_time": "2022-11-18T03:30:40.704237",
   "environment_variables": {},
   "exception": null,
   "input_path": "__notebook__.ipynb",
   "output_path": "__notebook__.ipynb",
   "parameters": {},
   "start_time": "2022-11-18T03:30:00.352469",
   "version": "2.3.4"
  }
 },
 "nbformat": 4,
 "nbformat_minor": 5
}
