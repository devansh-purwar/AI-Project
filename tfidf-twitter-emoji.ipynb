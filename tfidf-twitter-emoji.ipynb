{
 "cells": [
  {
   "cell_type": "code",
   "execution_count": 1,
   "id": "4bb5f35a",
   "metadata": {
    "_cell_guid": "b1076dfc-b9ad-4769-8c92-a6c4dae69d19",
    "_uuid": "8f2839f25d086af736a60e9eeb907d3b93b6e0e5",
    "execution": {
     "iopub.execute_input": "2022-11-12T09:36:32.108646Z",
     "iopub.status.busy": "2022-11-12T09:36:32.108151Z",
     "iopub.status.idle": "2022-11-12T09:36:32.127928Z",
     "shell.execute_reply": "2022-11-12T09:36:32.126231Z"
    },
    "papermill": {
     "duration": 0.035422,
     "end_time": "2022-11-12T09:36:32.130740",
     "exception": false,
     "start_time": "2022-11-12T09:36:32.095318",
     "status": "completed"
    },
    "tags": []
   },
   "outputs": [
    {
     "name": "stdout",
     "output_type": "stream",
     "text": [
      "/kaggle/input/twitter-data/newData.csv\n"
     ]
    }
   ],
   "source": [
    "# This Python 3 environment comes with many helpful analytics libraries installed\n",
    "# It is defined by the kaggle/python Docker image: https://github.com/kaggle/docker-python\n",
    "# For example, here's several helpful packages to load\n",
    "\n",
    "import numpy as np # linear algebra\n",
    "import pandas as pd # data processing, CSV file I/O (e.g. pd.read_csv)\n",
    "\n",
    "# Input data files are available in the read-only \"../input/\" directory\n",
    "# For example, running this (by clicking run or pressing Shift+Enter) will list all files under the input directory\n",
    "\n",
    "import os\n",
    "for dirname, _, filenames in os.walk('/kaggle/input'):\n",
    "    for filename in filenames:\n",
    "        print(os.path.join(dirname, filename))\n",
    "\n",
    "# You can write up to 20GB to the current directory (/kaggle/working/) that gets preserved as output when you create a version using \"Save & Run All\" \n",
    "# You can also write temporary files to /kaggle/temp/, but they won't be saved outside of the current session"
   ]
  },
  {
   "cell_type": "code",
   "execution_count": 2,
   "id": "528fa8db",
   "metadata": {
    "execution": {
     "iopub.execute_input": "2022-11-12T09:36:32.146003Z",
     "iopub.status.busy": "2022-11-12T09:36:32.145544Z",
     "iopub.status.idle": "2022-11-12T09:36:32.151147Z",
     "shell.execute_reply": "2022-11-12T09:36:32.149719Z"
    },
    "papermill": {
     "duration": 0.016235,
     "end_time": "2022-11-12T09:36:32.153674",
     "exception": false,
     "start_time": "2022-11-12T09:36:32.137439",
     "status": "completed"
    },
    "tags": []
   },
   "outputs": [],
   "source": [
    "import pickle"
   ]
  },
  {
   "cell_type": "code",
   "execution_count": 3,
   "id": "b2be5396",
   "metadata": {
    "execution": {
     "iopub.execute_input": "2022-11-12T09:36:32.168900Z",
     "iopub.status.busy": "2022-11-12T09:36:32.168497Z",
     "iopub.status.idle": "2022-11-12T09:36:34.408571Z",
     "shell.execute_reply": "2022-11-12T09:36:34.405851Z"
    },
    "papermill": {
     "duration": 2.252445,
     "end_time": "2022-11-12T09:36:34.412767",
     "exception": false,
     "start_time": "2022-11-12T09:36:32.160322",
     "status": "completed"
    },
    "tags": []
   },
   "outputs": [],
   "source": [
    "df =pd.read_csv(\"../input/twitter-data/newData.csv\") "
   ]
  },
  {
   "cell_type": "code",
   "execution_count": 4,
   "id": "032283ed",
   "metadata": {
    "execution": {
     "iopub.execute_input": "2022-11-12T09:36:34.429917Z",
     "iopub.status.busy": "2022-11-12T09:36:34.429424Z",
     "iopub.status.idle": "2022-11-12T09:36:34.539738Z",
     "shell.execute_reply": "2022-11-12T09:36:34.538731Z"
    },
    "papermill": {
     "duration": 0.122241,
     "end_time": "2022-11-12T09:36:34.542015",
     "exception": false,
     "start_time": "2022-11-12T09:36:34.419774",
     "status": "completed"
    },
    "tags": []
   },
   "outputs": [
    {
     "data": {
      "text/html": [
       "<div>\n",
       "<style scoped>\n",
       "    .dataframe tbody tr th:only-of-type {\n",
       "        vertical-align: middle;\n",
       "    }\n",
       "\n",
       "    .dataframe tbody tr th {\n",
       "        vertical-align: top;\n",
       "    }\n",
       "\n",
       "    .dataframe thead th {\n",
       "        text-align: right;\n",
       "    }\n",
       "</style>\n",
       "<table border=\"1\" class=\"dataframe\">\n",
       "  <thead>\n",
       "    <tr style=\"text-align: right;\">\n",
       "      <th></th>\n",
       "      <th>Unnamed: 0</th>\n",
       "      <th>label_int</th>\n",
       "      <th>newLabel</th>\n",
       "    </tr>\n",
       "  </thead>\n",
       "  <tbody>\n",
       "    <tr>\n",
       "      <th>count</th>\n",
       "      <td>567758.000000</td>\n",
       "      <td>567758.000000</td>\n",
       "      <td>567758.000000</td>\n",
       "    </tr>\n",
       "    <tr>\n",
       "      <th>mean</th>\n",
       "      <td>283878.500000</td>\n",
       "      <td>35.540061</td>\n",
       "      <td>2.992035</td>\n",
       "    </tr>\n",
       "    <tr>\n",
       "      <th>std</th>\n",
       "      <td>163897.761405</td>\n",
       "      <td>17.067480</td>\n",
       "      <td>1.882829</td>\n",
       "    </tr>\n",
       "    <tr>\n",
       "      <th>min</th>\n",
       "      <td>0.000000</td>\n",
       "      <td>0.000000</td>\n",
       "      <td>1.000000</td>\n",
       "    </tr>\n",
       "    <tr>\n",
       "      <th>25%</th>\n",
       "      <td>141939.250000</td>\n",
       "      <td>26.000000</td>\n",
       "      <td>1.000000</td>\n",
       "    </tr>\n",
       "    <tr>\n",
       "      <th>50%</th>\n",
       "      <td>283878.500000</td>\n",
       "      <td>34.000000</td>\n",
       "      <td>3.000000</td>\n",
       "    </tr>\n",
       "    <tr>\n",
       "      <th>75%</th>\n",
       "      <td>425817.750000</td>\n",
       "      <td>53.000000</td>\n",
       "      <td>4.000000</td>\n",
       "    </tr>\n",
       "    <tr>\n",
       "      <th>max</th>\n",
       "      <td>567757.000000</td>\n",
       "      <td>63.000000</td>\n",
       "      <td>7.000000</td>\n",
       "    </tr>\n",
       "  </tbody>\n",
       "</table>\n",
       "</div>"
      ],
      "text/plain": [
       "          Unnamed: 0      label_int       newLabel\n",
       "count  567758.000000  567758.000000  567758.000000\n",
       "mean   283878.500000      35.540061       2.992035\n",
       "std    163897.761405      17.067480       1.882829\n",
       "min         0.000000       0.000000       1.000000\n",
       "25%    141939.250000      26.000000       1.000000\n",
       "50%    283878.500000      34.000000       3.000000\n",
       "75%    425817.750000      53.000000       4.000000\n",
       "max    567757.000000      63.000000       7.000000"
      ]
     },
     "execution_count": 4,
     "metadata": {},
     "output_type": "execute_result"
    }
   ],
   "source": [
    "df.describe()"
   ]
  },
  {
   "cell_type": "code",
   "execution_count": 5,
   "id": "a12d7692",
   "metadata": {
    "execution": {
     "iopub.execute_input": "2022-11-12T09:36:34.558781Z",
     "iopub.status.busy": "2022-11-12T09:36:34.557584Z",
     "iopub.status.idle": "2022-11-12T09:36:34.629551Z",
     "shell.execute_reply": "2022-11-12T09:36:34.628196Z"
    },
    "papermill": {
     "duration": 0.083163,
     "end_time": "2022-11-12T09:36:34.632577",
     "exception": false,
     "start_time": "2022-11-12T09:36:34.549414",
     "status": "completed"
    },
    "tags": []
   },
   "outputs": [
    {
     "name": "stdout",
     "output_type": "stream",
     "text": [
      "<class 'pandas.core.frame.DataFrame'>\n",
      "RangeIndex: 567758 entries, 0 to 567757\n",
      "Data columns (total 5 columns):\n",
      " #   Column          Non-Null Count   Dtype \n",
      "---  ------          --------------   ----- \n",
      " 0   Unnamed: 0      567758 non-null  int64 \n",
      " 1   pre_punc        567758 non-null  object\n",
      " 2   label_int       567758 non-null  int64 \n",
      " 3   label_to_emoji  567758 non-null  object\n",
      " 4   newLabel        567758 non-null  int64 \n",
      "dtypes: int64(3), object(2)\n",
      "memory usage: 21.7+ MB\n"
     ]
    }
   ],
   "source": [
    "df.info()"
   ]
  },
  {
   "cell_type": "code",
   "execution_count": 6,
   "id": "371fad84",
   "metadata": {
    "execution": {
     "iopub.execute_input": "2022-11-12T09:36:34.647610Z",
     "iopub.status.busy": "2022-11-12T09:36:34.647197Z",
     "iopub.status.idle": "2022-11-12T09:36:34.664481Z",
     "shell.execute_reply": "2022-11-12T09:36:34.663026Z"
    },
    "papermill": {
     "duration": 0.028027,
     "end_time": "2022-11-12T09:36:34.667267",
     "exception": false,
     "start_time": "2022-11-12T09:36:34.639240",
     "status": "completed"
    },
    "tags": []
   },
   "outputs": [],
   "source": [
    "corpus = df.pre_punc.to_list()"
   ]
  },
  {
   "cell_type": "code",
   "execution_count": 7,
   "id": "2f648749",
   "metadata": {
    "execution": {
     "iopub.execute_input": "2022-11-12T09:36:34.683513Z",
     "iopub.status.busy": "2022-11-12T09:36:34.682351Z",
     "iopub.status.idle": "2022-11-12T09:36:53.801144Z",
     "shell.execute_reply": "2022-11-12T09:36:53.800119Z"
    },
    "papermill": {
     "duration": 19.130087,
     "end_time": "2022-11-12T09:36:53.804268",
     "exception": false,
     "start_time": "2022-11-12T09:36:34.674181",
     "status": "completed"
    },
    "tags": []
   },
   "outputs": [],
   "source": [
    "from sklearn.feature_extraction.text import TfidfVectorizer\n",
    "v = TfidfVectorizer()\n",
    "v.fit(corpus)\n",
    "transform_output = v.transform(corpus)"
   ]
  },
  {
   "cell_type": "code",
   "execution_count": 8,
   "id": "b66c829f",
   "metadata": {
    "execution": {
     "iopub.execute_input": "2022-11-12T09:36:53.822296Z",
     "iopub.status.busy": "2022-11-12T09:36:53.821472Z",
     "iopub.status.idle": "2022-11-12T09:36:53.829085Z",
     "shell.execute_reply": "2022-11-12T09:36:53.827819Z"
    },
    "papermill": {
     "duration": 0.018438,
     "end_time": "2022-11-12T09:36:53.831727",
     "exception": false,
     "start_time": "2022-11-12T09:36:53.813289",
     "status": "completed"
    },
    "tags": []
   },
   "outputs": [
    {
     "data": {
      "text/plain": [
       "108416"
      ]
     },
     "execution_count": 8,
     "metadata": {},
     "output_type": "execute_result"
    }
   ],
   "source": [
    "len(v.vocabulary_)"
   ]
  },
  {
   "cell_type": "code",
   "execution_count": 9,
   "id": "1c745721",
   "metadata": {
    "execution": {
     "iopub.execute_input": "2022-11-12T09:36:53.847510Z",
     "iopub.status.busy": "2022-11-12T09:36:53.847087Z",
     "iopub.status.idle": "2022-11-12T09:37:40.749802Z",
     "shell.execute_reply": "2022-11-12T09:37:40.747852Z"
    },
    "papermill": {
     "duration": 46.924011,
     "end_time": "2022-11-12T09:37:40.762634",
     "exception": false,
     "start_time": "2022-11-12T09:36:53.838623",
     "status": "completed"
    },
    "tags": []
   },
   "outputs": [
    {
     "name": "stdout",
     "output_type": "stream",
     "text": [
      "[[0. 0. 0. ... 0. 0. 0.]\n",
      " [0. 0. 0. ... 0. 0. 0.]\n",
      " [0. 0. 0. ... 0. 0. 0.]\n",
      " ...\n",
      " [0. 0. 0. ... 0. 0. 0.]\n",
      " [0. 0. 0. ... 0. 0. 0.]\n",
      " [0. 0. 0. ... 0. 0. 0.]]\n"
     ]
    }
   ],
   "source": [
    "print(transform_output.toarray())"
   ]
  },
  {
   "cell_type": "code",
   "execution_count": 10,
   "id": "8e151e3d",
   "metadata": {
    "execution": {
     "iopub.execute_input": "2022-11-12T09:37:40.780704Z",
     "iopub.status.busy": "2022-11-12T09:37:40.780307Z",
     "iopub.status.idle": "2022-11-12T09:37:40.804591Z",
     "shell.execute_reply": "2022-11-12T09:37:40.803064Z"
    },
    "papermill": {
     "duration": 0.037616,
     "end_time": "2022-11-12T09:37:40.808421",
     "exception": false,
     "start_time": "2022-11-12T09:37:40.770805",
     "status": "completed"
    },
    "tags": []
   },
   "outputs": [
    {
     "data": {
      "text/html": [
       "<div>\n",
       "<style scoped>\n",
       "    .dataframe tbody tr th:only-of-type {\n",
       "        vertical-align: middle;\n",
       "    }\n",
       "\n",
       "    .dataframe tbody tr th {\n",
       "        vertical-align: top;\n",
       "    }\n",
       "\n",
       "    .dataframe thead th {\n",
       "        text-align: right;\n",
       "    }\n",
       "</style>\n",
       "<table border=\"1\" class=\"dataframe\">\n",
       "  <thead>\n",
       "    <tr style=\"text-align: right;\">\n",
       "      <th></th>\n",
       "      <th>Unnamed: 0</th>\n",
       "      <th>pre_punc</th>\n",
       "      <th>label_int</th>\n",
       "      <th>label_to_emoji</th>\n",
       "      <th>newLabel</th>\n",
       "    </tr>\n",
       "  </thead>\n",
       "  <tbody>\n",
       "    <tr>\n",
       "      <th>0</th>\n",
       "      <td>0</td>\n",
       "      <td>what s this old bit bertie you re still a spri...</td>\n",
       "      <td>26</td>\n",
       "      <td>😂</td>\n",
       "      <td>1</td>\n",
       "    </tr>\n",
       "    <tr>\n",
       "      <th>1</th>\n",
       "      <td>1</td>\n",
       "      <td>of in what way ! ? or is that a silly question...</td>\n",
       "      <td>59</td>\n",
       "      <td>😳</td>\n",
       "      <td>7</td>\n",
       "    </tr>\n",
       "    <tr>\n",
       "      <th>2</th>\n",
       "      <td>2</td>\n",
       "      <td>how doe the man survive ? you are spot on when...</td>\n",
       "      <td>29</td>\n",
       "      <td>😅</td>\n",
       "      <td>1</td>\n",
       "    </tr>\n",
       "    <tr>\n",
       "      <th>3</th>\n",
       "      <td>3</td>\n",
       "      <td>come back to me when cox can hook up with some...</td>\n",
       "      <td>33</td>\n",
       "      <td>😉</td>\n",
       "      <td>1</td>\n",
       "    </tr>\n",
       "    <tr>\n",
       "      <th>4</th>\n",
       "      <td>4</td>\n",
       "      <td>my parent don t even know about my relationshi...</td>\n",
       "      <td>11</td>\n",
       "      <td>💀</td>\n",
       "      <td>6</td>\n",
       "    </tr>\n",
       "    <tr>\n",
       "      <th>...</th>\n",
       "      <td>...</td>\n",
       "      <td>...</td>\n",
       "      <td>...</td>\n",
       "      <td>...</td>\n",
       "      <td>...</td>\n",
       "    </tr>\n",
       "    <tr>\n",
       "      <th>567753</th>\n",
       "      <td>567753</td>\n",
       "      <td>its april fools day today . . . . fake news wi...</td>\n",
       "      <td>26</td>\n",
       "      <td>😂</td>\n",
       "      <td>1</td>\n",
       "    </tr>\n",
       "    <tr>\n",
       "      <th>567754</th>\n",
       "      <td>567754</td>\n",
       "      <td>happy birthday to our football club formed on ...</td>\n",
       "      <td>3</td>\n",
       "      <td>🎉</td>\n",
       "      <td>1</td>\n",
       "    </tr>\n",
       "    <tr>\n",
       "      <th>567755</th>\n",
       "      <td>567755</td>\n",
       "      <td>thank you for bringing awareness . this is ter...</td>\n",
       "      <td>50</td>\n",
       "      <td>😢</td>\n",
       "      <td>4</td>\n",
       "    </tr>\n",
       "    <tr>\n",
       "      <th>567756</th>\n",
       "      <td>567756</td>\n",
       "      <td>wtf you also know berserk damn one of my fav s...</td>\n",
       "      <td>38</td>\n",
       "      <td>😎</td>\n",
       "      <td>1</td>\n",
       "    </tr>\n",
       "    <tr>\n",
       "      <th>567757</th>\n",
       "      <td>567757</td>\n",
       "      <td>i forgot all about this . i never knew that th...</td>\n",
       "      <td>57</td>\n",
       "      <td>😭</td>\n",
       "      <td>4</td>\n",
       "    </tr>\n",
       "  </tbody>\n",
       "</table>\n",
       "<p>567758 rows × 5 columns</p>\n",
       "</div>"
      ],
      "text/plain": [
       "        Unnamed: 0                                           pre_punc  \\\n",
       "0                0  what s this old bit bertie you re still a spri...   \n",
       "1                1  of in what way ! ? or is that a silly question...   \n",
       "2                2  how doe the man survive ? you are spot on when...   \n",
       "3                3  come back to me when cox can hook up with some...   \n",
       "4                4  my parent don t even know about my relationshi...   \n",
       "...            ...                                                ...   \n",
       "567753      567753  its april fools day today . . . . fake news wi...   \n",
       "567754      567754  happy birthday to our football club formed on ...   \n",
       "567755      567755  thank you for bringing awareness . this is ter...   \n",
       "567756      567756  wtf you also know berserk damn one of my fav s...   \n",
       "567757      567757  i forgot all about this . i never knew that th...   \n",
       "\n",
       "        label_int label_to_emoji  newLabel  \n",
       "0              26              😂         1  \n",
       "1              59              😳         7  \n",
       "2              29              😅         1  \n",
       "3              33              😉         1  \n",
       "4              11              💀         6  \n",
       "...           ...            ...       ...  \n",
       "567753         26              😂         1  \n",
       "567754          3              🎉         1  \n",
       "567755         50              😢         4  \n",
       "567756         38              😎         1  \n",
       "567757         57              😭         4  \n",
       "\n",
       "[567758 rows x 5 columns]"
      ]
     },
     "execution_count": 10,
     "metadata": {},
     "output_type": "execute_result"
    }
   ],
   "source": [
    "df"
   ]
  },
  {
   "cell_type": "code",
   "execution_count": 11,
   "id": "efec12fa",
   "metadata": {
    "execution": {
     "iopub.execute_input": "2022-11-12T09:37:40.827844Z",
     "iopub.status.busy": "2022-11-12T09:37:40.826816Z",
     "iopub.status.idle": "2022-11-12T09:37:40.850280Z",
     "shell.execute_reply": "2022-11-12T09:37:40.848500Z"
    },
    "papermill": {
     "duration": 0.035241,
     "end_time": "2022-11-12T09:37:40.853479",
     "exception": false,
     "start_time": "2022-11-12T09:37:40.818238",
     "status": "completed"
    },
    "tags": []
   },
   "outputs": [
    {
     "data": {
      "text/plain": [
       "1    219066\n",
       "4    167300\n",
       "5     60813\n",
       "2     45818\n",
       "6     27294\n",
       "7     27155\n",
       "3     20312\n",
       "Name: newLabel, dtype: int64"
      ]
     },
     "execution_count": 11,
     "metadata": {},
     "output_type": "execute_result"
    }
   ],
   "source": [
    "df['newLabel'].value_counts()"
   ]
  },
  {
   "cell_type": "code",
   "execution_count": 12,
   "id": "4a44fcb6",
   "metadata": {
    "execution": {
     "iopub.execute_input": "2022-11-12T09:37:40.870344Z",
     "iopub.status.busy": "2022-11-12T09:37:40.869858Z",
     "iopub.status.idle": "2022-11-12T09:37:41.249683Z",
     "shell.execute_reply": "2022-11-12T09:37:41.248357Z"
    },
    "papermill": {
     "duration": 0.391783,
     "end_time": "2022-11-12T09:37:41.252842",
     "exception": false,
     "start_time": "2022-11-12T09:37:40.861059",
     "status": "completed"
    },
    "tags": []
   },
   "outputs": [],
   "source": [
    "from sklearn.model_selection import train_test_split\n",
    "\n",
    "X_train, X_test, y_train, y_test = train_test_split(\n",
    "    df.pre_punc, \n",
    "    df.newLabel, \n",
    "    test_size=0.2, # 20% samples will go to test dataset\n",
    "    random_state=2022,\n",
    "    stratify=df.newLabel\n",
    ")"
   ]
  },
  {
   "cell_type": "code",
   "execution_count": 13,
   "id": "863bacda",
   "metadata": {
    "execution": {
     "iopub.execute_input": "2022-11-12T09:37:41.270501Z",
     "iopub.status.busy": "2022-11-12T09:37:41.269331Z",
     "iopub.status.idle": "2022-11-12T09:37:41.276398Z",
     "shell.execute_reply": "2022-11-12T09:37:41.274603Z"
    },
    "papermill": {
     "duration": 0.018972,
     "end_time": "2022-11-12T09:37:41.279508",
     "exception": false,
     "start_time": "2022-11-12T09:37:41.260536",
     "status": "completed"
    },
    "tags": []
   },
   "outputs": [
    {
     "name": "stdout",
     "output_type": "stream",
     "text": [
      "Shape of X_train:  (454206,)\n",
      "Shape of X_test:  (113552,)\n"
     ]
    }
   ],
   "source": [
    "print(\"Shape of X_train: \", X_train.shape)\n",
    "print(\"Shape of X_test: \", X_test.shape)"
   ]
  },
  {
   "cell_type": "code",
   "execution_count": 14,
   "id": "8cf20462",
   "metadata": {
    "execution": {
     "iopub.execute_input": "2022-11-12T09:37:41.296811Z",
     "iopub.status.busy": "2022-11-12T09:37:41.296412Z",
     "iopub.status.idle": "2022-11-12T09:37:41.304825Z",
     "shell.execute_reply": "2022-11-12T09:37:41.303692Z"
    },
    "papermill": {
     "duration": 0.019583,
     "end_time": "2022-11-12T09:37:41.307154",
     "exception": false,
     "start_time": "2022-11-12T09:37:41.287571",
     "status": "completed"
    },
    "tags": []
   },
   "outputs": [
    {
     "data": {
      "text/plain": [
       "379633    i should most definitely uninstall this app . ...\n",
       "42768     number percent ? ? ? have you seen dream antis...\n",
       "142862    she should be . her podium is a loud a it will...\n",
       "411477    to song wrapped around your finger by number s...\n",
       "66853     lot of acc are deactivating and going priv let...\n",
       "Name: pre_punc, dtype: object"
      ]
     },
     "execution_count": 14,
     "metadata": {},
     "output_type": "execute_result"
    }
   ],
   "source": [
    "X_train.head()"
   ]
  },
  {
   "cell_type": "code",
   "execution_count": 15,
   "id": "6b230cf1",
   "metadata": {
    "execution": {
     "iopub.execute_input": "2022-11-12T09:37:41.324945Z",
     "iopub.status.busy": "2022-11-12T09:37:41.323804Z",
     "iopub.status.idle": "2022-11-12T09:37:41.335903Z",
     "shell.execute_reply": "2022-11-12T09:37:41.334715Z"
    },
    "papermill": {
     "duration": 0.023576,
     "end_time": "2022-11-12T09:37:41.338438",
     "exception": false,
     "start_time": "2022-11-12T09:37:41.314862",
     "status": "completed"
    },
    "tags": []
   },
   "outputs": [
    {
     "data": {
      "text/plain": [
       "1    175253\n",
       "4    133840\n",
       "5     48650\n",
       "2     36654\n",
       "6     21835\n",
       "7     21724\n",
       "3     16250\n",
       "Name: newLabel, dtype: int64"
      ]
     },
     "execution_count": 15,
     "metadata": {},
     "output_type": "execute_result"
    }
   ],
   "source": [
    "y_train.value_counts()"
   ]
  },
  {
   "cell_type": "code",
   "execution_count": 16,
   "id": "e7acfb72",
   "metadata": {
    "execution": {
     "iopub.execute_input": "2022-11-12T09:37:41.356210Z",
     "iopub.status.busy": "2022-11-12T09:37:41.355750Z",
     "iopub.status.idle": "2022-11-12T09:37:41.365413Z",
     "shell.execute_reply": "2022-11-12T09:37:41.364079Z"
    },
    "papermill": {
     "duration": 0.021563,
     "end_time": "2022-11-12T09:37:41.367857",
     "exception": false,
     "start_time": "2022-11-12T09:37:41.346294",
     "status": "completed"
    },
    "tags": []
   },
   "outputs": [
    {
     "data": {
      "text/plain": [
       "1    43813\n",
       "4    33460\n",
       "5    12163\n",
       "2     9164\n",
       "6     5459\n",
       "7     5431\n",
       "3     4062\n",
       "Name: newLabel, dtype: int64"
      ]
     },
     "execution_count": 16,
     "metadata": {},
     "output_type": "execute_result"
    }
   ],
   "source": [
    "y_test.value_counts()"
   ]
  },
  {
   "cell_type": "code",
   "execution_count": 17,
   "id": "4e7c937e",
   "metadata": {
    "execution": {
     "iopub.execute_input": "2022-11-12T09:37:41.385847Z",
     "iopub.status.busy": "2022-11-12T09:37:41.385461Z",
     "iopub.status.idle": "2022-11-12T10:22:47.331641Z",
     "shell.execute_reply": "2022-11-12T10:22:47.328972Z"
    },
    "papermill": {
     "duration": 2705.959869,
     "end_time": "2022-11-12T10:22:47.335796",
     "exception": false,
     "start_time": "2022-11-12T09:37:41.375927",
     "status": "completed"
    },
    "tags": []
   },
   "outputs": [
    {
     "name": "stdout",
     "output_type": "stream",
     "text": [
      "              precision    recall  f1-score   support\n",
      "\n",
      "           1       0.39      0.71      0.51     43813\n",
      "           2       0.18      0.14      0.16      9164\n",
      "           3       0.15      0.00      0.00      4062\n",
      "           4       0.50      0.03      0.05     33460\n",
      "           5       0.16      0.08      0.10     12163\n",
      "           6       0.05      0.18      0.08      5459\n",
      "           7       0.14      0.00      0.01      5431\n",
      "\n",
      "    accuracy                           0.31    113552\n",
      "   macro avg       0.23      0.16      0.13    113552\n",
      "weighted avg       0.35      0.31      0.24    113552\n",
      "\n"
     ]
    }
   ],
   "source": [
    "from sklearn.neighbors import KNeighborsClassifier\n",
    "from sklearn.pipeline import Pipeline\n",
    "from sklearn.metrics import classification_report\n",
    "\n",
    "#1. create a pipeline object\n",
    "clf = Pipeline([\n",
    "     ('vectorizer_tfidf',TfidfVectorizer()),    \n",
    "     ('KNN', KNeighborsClassifier())         \n",
    "])\n",
    "\n",
    "#2. fit with X_train and y_train\n",
    "clf.fit(X_train, y_train)\n",
    "\n",
    "\n",
    "#3. get the predictions for X_test and store it in y_pred\n",
    "y_pred = clf.predict(X_test)\n",
    "\n",
    "\n",
    "#4. print the classfication report\n",
    "print(classification_report(y_test, y_pred))\n",
    "filename = 'KNN.sav'\n",
    "pickle.dump(clf, open(filename, 'wb'))"
   ]
  },
  {
   "cell_type": "code",
   "execution_count": 18,
   "id": "ff500208",
   "metadata": {
    "execution": {
     "iopub.execute_input": "2022-11-12T10:22:47.356784Z",
     "iopub.status.busy": "2022-11-12T10:22:47.356221Z",
     "iopub.status.idle": "2022-11-12T10:22:47.377612Z",
     "shell.execute_reply": "2022-11-12T10:22:47.376081Z"
    },
    "papermill": {
     "duration": 0.036455,
     "end_time": "2022-11-12T10:22:47.380751",
     "exception": false,
     "start_time": "2022-11-12T10:22:47.344296",
     "status": "completed"
    },
    "tags": []
   },
   "outputs": [
    {
     "data": {
      "text/plain": [
       "444033    i hope if i decided to get married my husband ...\n",
       "186917    i thought so but wasn t sure . i need to do my...\n",
       "Name: pre_punc, dtype: object"
      ]
     },
     "execution_count": 18,
     "metadata": {},
     "output_type": "execute_result"
    }
   ],
   "source": [
    "X_test[:2]"
   ]
  },
  {
   "cell_type": "code",
   "execution_count": 19,
   "id": "2bb84287",
   "metadata": {
    "execution": {
     "iopub.execute_input": "2022-11-12T10:22:47.399903Z",
     "iopub.status.busy": "2022-11-12T10:22:47.399125Z",
     "iopub.status.idle": "2022-11-12T10:22:47.406277Z",
     "shell.execute_reply": "2022-11-12T10:22:47.405408Z"
    },
    "papermill": {
     "duration": 0.019368,
     "end_time": "2022-11-12T10:22:47.408760",
     "exception": false,
     "start_time": "2022-11-12T10:22:47.389392",
     "status": "completed"
    },
    "tags": []
   },
   "outputs": [
    {
     "data": {
      "text/plain": [
       "444033    1\n",
       "186917    5\n",
       "Name: newLabel, dtype: int64"
      ]
     },
     "execution_count": 19,
     "metadata": {},
     "output_type": "execute_result"
    }
   ],
   "source": [
    "y_test[:2]"
   ]
  },
  {
   "cell_type": "code",
   "execution_count": 20,
   "id": "b5ce367b",
   "metadata": {
    "execution": {
     "iopub.execute_input": "2022-11-12T10:22:47.428469Z",
     "iopub.status.busy": "2022-11-12T10:22:47.427687Z",
     "iopub.status.idle": "2022-11-12T10:22:47.434691Z",
     "shell.execute_reply": "2022-11-12T10:22:47.433780Z"
    },
    "papermill": {
     "duration": 0.019981,
     "end_time": "2022-11-12T10:22:47.437063",
     "exception": false,
     "start_time": "2022-11-12T10:22:47.417082",
     "status": "completed"
    },
    "tags": []
   },
   "outputs": [
    {
     "data": {
      "text/plain": [
       "array([6, 6])"
      ]
     },
     "execution_count": 20,
     "metadata": {},
     "output_type": "execute_result"
    }
   ],
   "source": [
    "y_pred[:2]"
   ]
  },
  {
   "cell_type": "code",
   "execution_count": 21,
   "id": "84064ea8",
   "metadata": {
    "execution": {
     "iopub.execute_input": "2022-11-12T10:22:47.456477Z",
     "iopub.status.busy": "2022-11-12T10:22:47.455700Z",
     "iopub.status.idle": "2022-11-12T10:22:58.483926Z",
     "shell.execute_reply": "2022-11-12T10:22:58.482344Z"
    },
    "papermill": {
     "duration": 11.041408,
     "end_time": "2022-11-12T10:22:58.486969",
     "exception": false,
     "start_time": "2022-11-12T10:22:47.445561",
     "status": "completed"
    },
    "tags": []
   },
   "outputs": [
    {
     "name": "stderr",
     "output_type": "stream",
     "text": [
      "/opt/conda/lib/python3.7/site-packages/sklearn/metrics/_classification.py:1318: UndefinedMetricWarning: Precision and F-score are ill-defined and being set to 0.0 in labels with no predicted samples. Use `zero_division` parameter to control this behavior.\n",
      "  _warn_prf(average, modifier, msg_start, len(result))\n",
      "/opt/conda/lib/python3.7/site-packages/sklearn/metrics/_classification.py:1318: UndefinedMetricWarning: Precision and F-score are ill-defined and being set to 0.0 in labels with no predicted samples. Use `zero_division` parameter to control this behavior.\n",
      "  _warn_prf(average, modifier, msg_start, len(result))\n",
      "/opt/conda/lib/python3.7/site-packages/sklearn/metrics/_classification.py:1318: UndefinedMetricWarning: Precision and F-score are ill-defined and being set to 0.0 in labels with no predicted samples. Use `zero_division` parameter to control this behavior.\n",
      "  _warn_prf(average, modifier, msg_start, len(result))\n"
     ]
    },
    {
     "name": "stdout",
     "output_type": "stream",
     "text": [
      "              precision    recall  f1-score   support\n",
      "\n",
      "           1       0.44      0.87      0.58     43813\n",
      "           2       0.70      0.03      0.06      9164\n",
      "           3       0.00      0.00      0.00      4062\n",
      "           4       0.53      0.40      0.46     33460\n",
      "           5       0.70      0.02      0.04     12163\n",
      "           6       1.00      0.00      0.00      5459\n",
      "           7       0.00      0.00      0.00      5431\n",
      "\n",
      "    accuracy                           0.46    113552\n",
      "   macro avg       0.48      0.19      0.16    113552\n",
      "weighted avg       0.50      0.46      0.37    113552\n",
      "\n"
     ]
    }
   ],
   "source": [
    "from sklearn.naive_bayes import MultinomialNB\n",
    "\n",
    "\n",
    "#1. create a pipeline object\n",
    "clf = Pipeline([\n",
    "     ('vectorizer_tfidf',TfidfVectorizer()),    \n",
    "     ('Multi NB', MultinomialNB())         \n",
    "])\n",
    "\n",
    "#2. fit with X_train and y_train\n",
    "clf.fit(X_train, y_train)\n",
    "\n",
    "\n",
    "#3. get the predictions for X_test and store it in y_pred\n",
    "y_pred = clf.predict(X_test)\n",
    "\n",
    "\n",
    "#4. print the classfication report\n",
    "print(classification_report(y_test, y_pred))\n",
    "\n",
    "filename = 'NaiveBayes.sav'\n",
    "pickle.dump(clf, open(filename, 'wb'))"
   ]
  },
  {
   "cell_type": "code",
   "execution_count": 22,
   "id": "0644de10",
   "metadata": {
    "execution": {
     "iopub.execute_input": "2022-11-12T10:22:58.506747Z",
     "iopub.status.busy": "2022-11-12T10:22:58.506321Z",
     "iopub.status.idle": "2022-11-12T13:06:14.028523Z",
     "shell.execute_reply": "2022-11-12T13:06:14.024215Z"
    },
    "papermill": {
     "duration": 9795.537247,
     "end_time": "2022-11-12T13:06:14.032952",
     "exception": false,
     "start_time": "2022-11-12T10:22:58.495705",
     "status": "completed"
    },
    "tags": []
   },
   "outputs": [
    {
     "name": "stdout",
     "output_type": "stream",
     "text": [
      "              precision    recall  f1-score   support\n",
      "\n",
      "           1       0.44      0.83      0.58     43813\n",
      "           2       0.64      0.15      0.24      9164\n",
      "           3       1.00      0.01      0.01      4062\n",
      "           4       0.51      0.42      0.46     33460\n",
      "           5       0.70      0.04      0.07     12163\n",
      "           6       0.75      0.02      0.03      5459\n",
      "           7       0.80      0.00      0.01      5431\n",
      "\n",
      "    accuracy                           0.46    113552\n",
      "   macro avg       0.69      0.21      0.20    113552\n",
      "weighted avg       0.56      0.46      0.39    113552\n",
      "\n"
     ]
    }
   ],
   "source": [
    "from sklearn.ensemble import RandomForestClassifier\n",
    "\n",
    "#1. create a pipeline object\n",
    "clf = Pipeline([\n",
    "     ('vectorizer_tfidf',TfidfVectorizer()),        #using the ngram_range parameter \n",
    "     ('Random Forest', RandomForestClassifier())         \n",
    "])\n",
    "\n",
    "#2. fit with X_train and y_train\n",
    "clf.fit(X_train, y_train)\n",
    "\n",
    "\n",
    "#3. get the predictions for X_test and store it in y_pred\n",
    "y_pred = clf.predict(X_test)\n",
    "\n",
    "\n",
    "#4. print the classfication report\n",
    "print(classification_report(y_test, y_pred))\n",
    "\n",
    "filename = 'RandomForest.sav'\n",
    "pickle.dump(clf, open(filename, 'wb'))"
   ]
  },
  {
   "cell_type": "code",
   "execution_count": 23,
   "id": "d10c2dd1",
   "metadata": {
    "execution": {
     "iopub.execute_input": "2022-11-12T13:06:14.079818Z",
     "iopub.status.busy": "2022-11-12T13:06:14.078779Z",
     "iopub.status.idle": "2022-11-12T13:06:14.186165Z",
     "shell.execute_reply": "2022-11-12T13:06:14.184713Z"
    },
    "papermill": {
     "duration": 0.133841,
     "end_time": "2022-11-12T13:06:14.190006",
     "exception": false,
     "start_time": "2022-11-12T13:06:14.056165",
     "status": "completed"
    },
    "tags": []
   },
   "outputs": [],
   "source": [
    "from sklearn.metrics import confusion_matrix\n",
    "cm = confusion_matrix(y_test, y_pred)"
   ]
  },
  {
   "cell_type": "code",
   "execution_count": 24,
   "id": "3a53f2a2",
   "metadata": {
    "execution": {
     "iopub.execute_input": "2022-11-12T13:06:14.228574Z",
     "iopub.status.busy": "2022-11-12T13:06:14.227543Z",
     "iopub.status.idle": "2022-11-12T13:06:15.310718Z",
     "shell.execute_reply": "2022-11-12T13:06:15.309003Z"
    },
    "papermill": {
     "duration": 1.105121,
     "end_time": "2022-11-12T13:06:15.313702",
     "exception": false,
     "start_time": "2022-11-12T13:06:14.208581",
     "status": "completed"
    },
    "tags": []
   },
   "outputs": [
    {
     "data": {
      "text/plain": [
       "Text(69.0, 0.5, 'Truth')"
      ]
     },
     "execution_count": 24,
     "metadata": {},
     "output_type": "execute_result"
    },
    {
     "data": {
      "image/png": "[encoded data removed]",
      "text/plain": [
       "<Figure size 720x504 with 2 Axes>"
      ]
     },
     "metadata": {
      "needs_background": "light"
     },
     "output_type": "display_data"
    }
   ],
   "source": [
    "from matplotlib import pyplot as plt\n",
    "import seaborn as sn\n",
    "plt.figure(figsize = (10,7))\n",
    "sn.heatmap(cm, annot=True, fmt='d')\n",
    "plt.xlabel('Prediction')\n",
    "plt.ylabel('Truth')"
   ]
  },
  {
   "cell_type": "code",
   "execution_count": null,
   "id": "0e8cc6dd",
   "metadata": {
    "papermill": {
     "duration": 0.009905,
     "end_time": "2022-11-12T13:06:15.340036",
     "exception": false,
     "start_time": "2022-11-12T13:06:15.330131",
     "status": "completed"
    },
    "tags": []
   },
   "outputs": [],
   "source": []
  }
 ],
 "metadata": {
  "kernelspec": {
   "display_name": "Python 3",
   "language": "python",
   "name": "python3"
  },
  "language_info": {
   "codemirror_mode": {
    "name": "ipython",
    "version": 3
   },
   "file_extension": ".py",
   "mimetype": "text/x-python",
   "name": "python",
   "nbconvert_exporter": "python",
   "pygments_lexer": "ipython3",
   "version": "3.7.12"
  },
  "papermill": {
   "default_parameters": {},
   "duration": 12594.930086,
   "end_time": "2022-11-12T13:06:17.706704",
   "environment_variables": {},
   "exception": null,
   "input_path": "__notebook__.ipynb",
   "output_path": "__notebook__.ipynb",
   "parameters": {},
   "start_time": "2022-11-12T09:36:22.776618",
   "version": "2.3.4"
  }
 },
 "nbformat": 4,
 "nbformat_minor": 5
}
