{
 "cells": [
  {
   "cell_type": "code",
   "execution_count": 1,
   "id": "f8fb5c27",
   "metadata": {
    "_cell_guid": "b1076dfc-b9ad-4769-8c92-a6c4dae69d19",
    "_uuid": "8f2839f25d086af736a60e9eeb907d3b93b6e0e5",
    "execution": {
     "iopub.execute_input": "2022-11-12T10:12:47.565230Z",
     "iopub.status.busy": "2022-11-12T10:12:47.564356Z",
     "iopub.status.idle": "2022-11-12T10:12:47.583121Z",
     "shell.execute_reply": "2022-11-12T10:12:47.581681Z"
    },
    "papermill": {
     "duration": 0.030764,
     "end_time": "2022-11-12T10:12:47.586137",
     "exception": false,
     "start_time": "2022-11-12T10:12:47.555373",
     "status": "completed"
    },
    "tags": []
   },
   "outputs": [
    {
     "name": "stdout",
     "output_type": "stream",
     "text": [
      "/kaggle/input/twitter-class-balanced/balanced_data.csv\n"
     ]
    }
   ],
   "source": [
    "# This Python 3 environment comes with many helpful analytics libraries installed\n",
    "# It is defined by the kaggle/python Docker image: https://github.com/kaggle/docker-python\n",
    "# For example, here's several helpful packages to load\n",
    "\n",
    "import numpy as np # linear algebra\n",
    "import pandas as pd # data processing, CSV file I/O (e.g. pd.read_csv)\n",
    "\n",
    "# Input data files are available in the read-only \"../input/\" directory\n",
    "# For example, running this (by clicking run or pressing Shift+Enter) will list all files under the input directory\n",
    "\n",
    "import os\n",
    "for dirname, _, filenames in os.walk('/kaggle/input'):\n",
    "    for filename in filenames:\n",
    "        print(os.path.join(dirname, filename))\n",
    "\n",
    "# You can write up to 20GB to the current directory (/kaggle/working/) that gets preserved as output when you create a version using \"Save & Run All\" \n",
    "# You can also write temporary files to /kaggle/temp/, but they won't be saved outside of the current session"
   ]
  },
  {
   "cell_type": "code",
   "execution_count": 2,
   "id": "97cbf9de",
   "metadata": {
    "execution": {
     "iopub.execute_input": "2022-11-12T10:12:47.600323Z",
     "iopub.status.busy": "2022-11-12T10:12:47.599859Z",
     "iopub.status.idle": "2022-11-12T10:12:47.604686Z",
     "shell.execute_reply": "2022-11-12T10:12:47.603843Z"
    },
    "papermill": {
     "duration": 0.014577,
     "end_time": "2022-11-12T10:12:47.607030",
     "exception": false,
     "start_time": "2022-11-12T10:12:47.592453",
     "status": "completed"
    },
    "tags": []
   },
   "outputs": [],
   "source": [
    "import pickle"
   ]
  },
  {
   "cell_type": "code",
   "execution_count": 3,
   "id": "ce1e5ab6",
   "metadata": {
    "execution": {
     "iopub.execute_input": "2022-11-12T10:12:47.621640Z",
     "iopub.status.busy": "2022-11-12T10:12:47.621215Z",
     "iopub.status.idle": "2022-11-12T10:12:48.073341Z",
     "shell.execute_reply": "2022-11-12T10:12:48.072458Z"
    },
    "papermill": {
     "duration": 0.462684,
     "end_time": "2022-11-12T10:12:48.075935",
     "exception": false,
     "start_time": "2022-11-12T10:12:47.613251",
     "status": "completed"
    },
    "tags": []
   },
   "outputs": [],
   "source": [
    "df =pd.read_csv(\"../input/twitter-class-balanced/balanced_data.csv\") "
   ]
  },
  {
   "cell_type": "code",
   "execution_count": 4,
   "id": "4d785fac",
   "metadata": {
    "execution": {
     "iopub.execute_input": "2022-11-12T10:12:48.094666Z",
     "iopub.status.busy": "2022-11-12T10:12:48.094182Z",
     "iopub.status.idle": "2022-11-12T10:12:48.144825Z",
     "shell.execute_reply": "2022-11-12T10:12:48.143670Z"
    },
    "papermill": {
     "duration": 0.062259,
     "end_time": "2022-11-12T10:12:48.147562",
     "exception": false,
     "start_time": "2022-11-12T10:12:48.085303",
     "status": "completed"
    },
    "tags": []
   },
   "outputs": [
    {
     "data": {
      "text/html": [
       "<div>\n",
       "<style scoped>\n",
       "    .dataframe tbody tr th:only-of-type {\n",
       "        vertical-align: middle;\n",
       "    }\n",
       "\n",
       "    .dataframe tbody tr th {\n",
       "        vertical-align: top;\n",
       "    }\n",
       "\n",
       "    .dataframe thead th {\n",
       "        text-align: right;\n",
       "    }\n",
       "</style>\n",
       "<table border=\"1\" class=\"dataframe\">\n",
       "  <thead>\n",
       "    <tr style=\"text-align: right;\">\n",
       "      <th></th>\n",
       "      <th>Unnamed: 0</th>\n",
       "      <th>class</th>\n",
       "    </tr>\n",
       "  </thead>\n",
       "  <tbody>\n",
       "    <tr>\n",
       "      <th>count</th>\n",
       "      <td>142184.000000</td>\n",
       "      <td>142184.000000</td>\n",
       "    </tr>\n",
       "    <tr>\n",
       "      <th>mean</th>\n",
       "      <td>71091.500000</td>\n",
       "      <td>4.000000</td>\n",
       "    </tr>\n",
       "    <tr>\n",
       "      <th>std</th>\n",
       "      <td>41045.129675</td>\n",
       "      <td>2.000007</td>\n",
       "    </tr>\n",
       "    <tr>\n",
       "      <th>min</th>\n",
       "      <td>0.000000</td>\n",
       "      <td>1.000000</td>\n",
       "    </tr>\n",
       "    <tr>\n",
       "      <th>25%</th>\n",
       "      <td>35545.750000</td>\n",
       "      <td>2.000000</td>\n",
       "    </tr>\n",
       "    <tr>\n",
       "      <th>50%</th>\n",
       "      <td>71091.500000</td>\n",
       "      <td>4.000000</td>\n",
       "    </tr>\n",
       "    <tr>\n",
       "      <th>75%</th>\n",
       "      <td>106637.250000</td>\n",
       "      <td>6.000000</td>\n",
       "    </tr>\n",
       "    <tr>\n",
       "      <th>max</th>\n",
       "      <td>142183.000000</td>\n",
       "      <td>7.000000</td>\n",
       "    </tr>\n",
       "  </tbody>\n",
       "</table>\n",
       "</div>"
      ],
      "text/plain": [
       "          Unnamed: 0          class\n",
       "count  142184.000000  142184.000000\n",
       "mean    71091.500000       4.000000\n",
       "std     41045.129675       2.000007\n",
       "min         0.000000       1.000000\n",
       "25%     35545.750000       2.000000\n",
       "50%     71091.500000       4.000000\n",
       "75%    106637.250000       6.000000\n",
       "max    142183.000000       7.000000"
      ]
     },
     "execution_count": 4,
     "metadata": {},
     "output_type": "execute_result"
    }
   ],
   "source": [
    "df.describe()"
   ]
  },
  {
   "cell_type": "code",
   "execution_count": 5,
   "id": "c7fbf76f",
   "metadata": {
    "execution": {
     "iopub.execute_input": "2022-11-12T10:12:48.162299Z",
     "iopub.status.busy": "2022-11-12T10:12:48.161740Z",
     "iopub.status.idle": "2022-11-12T10:12:48.189573Z",
     "shell.execute_reply": "2022-11-12T10:12:48.187629Z"
    },
    "papermill": {
     "duration": 0.038178,
     "end_time": "2022-11-12T10:12:48.192219",
     "exception": false,
     "start_time": "2022-11-12T10:12:48.154041",
     "status": "completed"
    },
    "tags": []
   },
   "outputs": [
    {
     "name": "stdout",
     "output_type": "stream",
     "text": [
      "<class 'pandas.core.frame.DataFrame'>\n",
      "RangeIndex: 142184 entries, 0 to 142183\n",
      "Data columns (total 3 columns):\n",
      " #   Column      Non-Null Count   Dtype \n",
      "---  ------      --------------   ----- \n",
      " 0   Unnamed: 0  142184 non-null  int64 \n",
      " 1   text        142184 non-null  object\n",
      " 2   class       142184 non-null  int64 \n",
      "dtypes: int64(2), object(1)\n",
      "memory usage: 3.3+ MB\n"
     ]
    }
   ],
   "source": [
    "df.info()"
   ]
  },
  {
   "cell_type": "code",
   "execution_count": 6,
   "id": "205dfa0c",
   "metadata": {
    "execution": {
     "iopub.execute_input": "2022-11-12T10:12:48.207225Z",
     "iopub.status.busy": "2022-11-12T10:12:48.206814Z",
     "iopub.status.idle": "2022-11-12T10:12:48.215259Z",
     "shell.execute_reply": "2022-11-12T10:12:48.214127Z"
    },
    "papermill": {
     "duration": 0.01886,
     "end_time": "2022-11-12T10:12:48.217670",
     "exception": false,
     "start_time": "2022-11-12T10:12:48.198810",
     "status": "completed"
    },
    "tags": []
   },
   "outputs": [],
   "source": [
    "corpus = df.text.to_list()"
   ]
  },
  {
   "cell_type": "code",
   "execution_count": 7,
   "id": "0dc5150b",
   "metadata": {
    "execution": {
     "iopub.execute_input": "2022-11-12T10:12:48.232198Z",
     "iopub.status.busy": "2022-11-12T10:12:48.231477Z",
     "iopub.status.idle": "2022-11-12T10:12:53.860628Z",
     "shell.execute_reply": "2022-11-12T10:12:53.859039Z"
    },
    "papermill": {
     "duration": 5.639725,
     "end_time": "2022-11-12T10:12:53.863777",
     "exception": false,
     "start_time": "2022-11-12T10:12:48.224052",
     "status": "completed"
    },
    "tags": []
   },
   "outputs": [],
   "source": [
    "from sklearn.feature_extraction.text import TfidfVectorizer\n",
    "v = TfidfVectorizer()\n",
    "v.fit(corpus)\n",
    "transform_output = v.transform(corpus)"
   ]
  },
  {
   "cell_type": "code",
   "execution_count": 8,
   "id": "7301ee2d",
   "metadata": {
    "execution": {
     "iopub.execute_input": "2022-11-12T10:12:53.881169Z",
     "iopub.status.busy": "2022-11-12T10:12:53.879937Z",
     "iopub.status.idle": "2022-11-12T10:12:53.886457Z",
     "shell.execute_reply": "2022-11-12T10:12:53.885356Z"
    },
    "papermill": {
     "duration": 0.018553,
     "end_time": "2022-11-12T10:12:53.888935",
     "exception": false,
     "start_time": "2022-11-12T10:12:53.870382",
     "status": "completed"
    },
    "tags": []
   },
   "outputs": [
    {
     "data": {
      "text/plain": [
       "52625"
      ]
     },
     "execution_count": 8,
     "metadata": {},
     "output_type": "execute_result"
    }
   ],
   "source": [
    "len(v.vocabulary_)"
   ]
  },
  {
   "cell_type": "code",
   "execution_count": 9,
   "id": "004b5775",
   "metadata": {
    "execution": {
     "iopub.execute_input": "2022-11-12T10:12:53.903901Z",
     "iopub.status.busy": "2022-11-12T10:12:53.903481Z",
     "iopub.status.idle": "2022-11-12T10:13:05.229729Z",
     "shell.execute_reply": "2022-11-12T10:13:05.227947Z"
    },
    "papermill": {
     "duration": 11.337675,
     "end_time": "2022-11-12T10:13:05.233189",
     "exception": false,
     "start_time": "2022-11-12T10:12:53.895514",
     "status": "completed"
    },
    "tags": []
   },
   "outputs": [
    {
     "name": "stdout",
     "output_type": "stream",
     "text": [
      "[[0. 0. 0. ... 0. 0. 0.]\n",
      " [0. 0. 0. ... 0. 0. 0.]\n",
      " [0. 0. 0. ... 0. 0. 0.]\n",
      " ...\n",
      " [0. 0. 0. ... 0. 0. 0.]\n",
      " [0. 0. 0. ... 0. 0. 0.]\n",
      " [0. 0. 0. ... 0. 0. 0.]]\n"
     ]
    }
   ],
   "source": [
    "print(transform_output.toarray())"
   ]
  },
  {
   "cell_type": "code",
   "execution_count": 10,
   "id": "3718481e",
   "metadata": {
    "execution": {
     "iopub.execute_input": "2022-11-12T10:13:05.249049Z",
     "iopub.status.busy": "2022-11-12T10:13:05.248582Z",
     "iopub.status.idle": "2022-11-12T10:13:05.259146Z",
     "shell.execute_reply": "2022-11-12T10:13:05.257963Z"
    },
    "papermill": {
     "duration": 0.021175,
     "end_time": "2022-11-12T10:13:05.261576",
     "exception": false,
     "start_time": "2022-11-12T10:13:05.240401",
     "status": "completed"
    },
    "tags": []
   },
   "outputs": [
    {
     "data": {
      "text/plain": [
       "1    20312\n",
       "2    20312\n",
       "3    20312\n",
       "4    20312\n",
       "5    20312\n",
       "6    20312\n",
       "7    20312\n",
       "Name: class, dtype: int64"
      ]
     },
     "execution_count": 10,
     "metadata": {},
     "output_type": "execute_result"
    }
   ],
   "source": [
    "df['class'].value_counts()"
   ]
  },
  {
   "cell_type": "code",
   "execution_count": 11,
   "id": "3d4c9825",
   "metadata": {
    "execution": {
     "iopub.execute_input": "2022-11-12T10:13:05.277999Z",
     "iopub.status.busy": "2022-11-12T10:13:05.276765Z",
     "iopub.status.idle": "2022-11-12T10:13:05.407220Z",
     "shell.execute_reply": "2022-11-12T10:13:05.405905Z"
    },
    "papermill": {
     "duration": 0.141274,
     "end_time": "2022-11-12T10:13:05.409992",
     "exception": false,
     "start_time": "2022-11-12T10:13:05.268718",
     "status": "completed"
    },
    "tags": []
   },
   "outputs": [],
   "source": [
    "from sklearn.model_selection import train_test_split\n",
    "\n",
    "X_train, X_test, y_train, y_test = train_test_split(\n",
    "    df.text, \n",
    "    df['class'], \n",
    "    test_size=0.2, # 20% samples will go to test dataset\n",
    "    random_state=2022,\n",
    "    stratify=df['class']\n",
    ")"
   ]
  },
  {
   "cell_type": "code",
   "execution_count": 12,
   "id": "860421ab",
   "metadata": {
    "execution": {
     "iopub.execute_input": "2022-11-12T10:13:05.425847Z",
     "iopub.status.busy": "2022-11-12T10:13:05.425423Z",
     "iopub.status.idle": "2022-11-12T10:13:05.433361Z",
     "shell.execute_reply": "2022-11-12T10:13:05.431924Z"
    },
    "papermill": {
     "duration": 0.018613,
     "end_time": "2022-11-12T10:13:05.435706",
     "exception": false,
     "start_time": "2022-11-12T10:13:05.417093",
     "status": "completed"
    },
    "tags": []
   },
   "outputs": [
    {
     "name": "stdout",
     "output_type": "stream",
     "text": [
      "Shape of X_train:  (113747,)\n",
      "Shape of X_test:  (28437,)\n"
     ]
    }
   ],
   "source": [
    "print(\"Shape of X_train: \", X_train.shape)\n",
    "print(\"Shape of X_test: \", X_test.shape)"
   ]
  },
  {
   "cell_type": "code",
   "execution_count": 13,
   "id": "3490e3ac",
   "metadata": {
    "execution": {
     "iopub.execute_input": "2022-11-12T10:13:05.451816Z",
     "iopub.status.busy": "2022-11-12T10:13:05.450939Z",
     "iopub.status.idle": "2022-11-12T10:13:05.460022Z",
     "shell.execute_reply": "2022-11-12T10:13:05.458679Z"
    },
    "papermill": {
     "duration": 0.019959,
     "end_time": "2022-11-12T10:13:05.462574",
     "exception": false,
     "start_time": "2022-11-12T10:13:05.442615",
     "status": "completed"
    },
    "tags": []
   },
   "outputs": [
    {
     "data": {
      "text/plain": [
       "19816     eh it all good i have so many new amazing frie...\n",
       "61230     my friend lil brother said i m kinda like a br...\n",
       "19000     it s the way they switched up when dream joine...\n",
       "121156    you def look different . if not physically the...\n",
       "88860     hayes belief the blues can reach another level...\n",
       "Name: text, dtype: object"
      ]
     },
     "execution_count": 13,
     "metadata": {},
     "output_type": "execute_result"
    }
   ],
   "source": [
    "X_train.head()"
   ]
  },
  {
   "cell_type": "code",
   "execution_count": 14,
   "id": "b90a75f9",
   "metadata": {
    "execution": {
     "iopub.execute_input": "2022-11-12T10:13:05.478840Z",
     "iopub.status.busy": "2022-11-12T10:13:05.478130Z",
     "iopub.status.idle": "2022-11-12T10:13:05.488831Z",
     "shell.execute_reply": "2022-11-12T10:13:05.487707Z"
    },
    "papermill": {
     "duration": 0.021684,
     "end_time": "2022-11-12T10:13:05.491242",
     "exception": false,
     "start_time": "2022-11-12T10:13:05.469558",
     "status": "completed"
    },
    "tags": []
   },
   "outputs": [
    {
     "data": {
      "text/plain": [
       "4    16250\n",
       "3    16250\n",
       "7    16250\n",
       "2    16250\n",
       "1    16249\n",
       "6    16249\n",
       "5    16249\n",
       "Name: class, dtype: int64"
      ]
     },
     "execution_count": 14,
     "metadata": {},
     "output_type": "execute_result"
    }
   ],
   "source": [
    "y_train.value_counts()"
   ]
  },
  {
   "cell_type": "code",
   "execution_count": 15,
   "id": "963e9ddb",
   "metadata": {
    "execution": {
     "iopub.execute_input": "2022-11-12T10:13:05.507456Z",
     "iopub.status.busy": "2022-11-12T10:13:05.506690Z",
     "iopub.status.idle": "2022-11-12T10:13:05.514556Z",
     "shell.execute_reply": "2022-11-12T10:13:05.513371Z"
    },
    "papermill": {
     "duration": 0.018486,
     "end_time": "2022-11-12T10:13:05.516621",
     "exception": false,
     "start_time": "2022-11-12T10:13:05.498135",
     "status": "completed"
    },
    "tags": []
   },
   "outputs": [
    {
     "data": {
      "text/plain": [
       "6    4063\n",
       "1    4063\n",
       "5    4063\n",
       "2    4062\n",
       "4    4062\n",
       "3    4062\n",
       "7    4062\n",
       "Name: class, dtype: int64"
      ]
     },
     "execution_count": 15,
     "metadata": {},
     "output_type": "execute_result"
    }
   ],
   "source": [
    "y_test.value_counts()"
   ]
  },
  {
   "cell_type": "code",
   "execution_count": 16,
   "id": "31efd482",
   "metadata": {
    "execution": {
     "iopub.execute_input": "2022-11-12T10:13:05.533956Z",
     "iopub.status.busy": "2022-11-12T10:13:05.532769Z",
     "iopub.status.idle": "2022-11-12T10:15:40.982646Z",
     "shell.execute_reply": "2022-11-12T10:15:40.981400Z"
    },
    "papermill": {
     "duration": 155.46786,
     "end_time": "2022-11-12T10:15:40.991692",
     "exception": false,
     "start_time": "2022-11-12T10:13:05.523832",
     "status": "completed"
    },
    "tags": []
   },
   "outputs": [
    {
     "name": "stdout",
     "output_type": "stream",
     "text": [
      "              precision    recall  f1-score   support\n",
      "\n",
      "           1       0.11      0.00      0.00      4063\n",
      "           2       0.69      0.07      0.12      4062\n",
      "           3       0.47      0.01      0.01      4062\n",
      "           4       0.26      0.00      0.01      4062\n",
      "           5       0.40      0.02      0.04      4063\n",
      "           6       0.14      0.98      0.25      4063\n",
      "           7       0.33      0.00      0.00      4062\n",
      "\n",
      "    accuracy                           0.15     28437\n",
      "   macro avg       0.34      0.15      0.06     28437\n",
      "weighted avg       0.34      0.15      0.06     28437\n",
      "\n"
     ]
    }
   ],
   "source": [
    "from sklearn.neighbors import KNeighborsClassifier\n",
    "from sklearn.pipeline import Pipeline\n",
    "from sklearn.metrics import classification_report\n",
    "\n",
    "#1. create a pipeline object\n",
    "clf = Pipeline([\n",
    "     ('vectorizer_tfidf',TfidfVectorizer()),    \n",
    "     ('KNN', KNeighborsClassifier())         \n",
    "])\n",
    "\n",
    "#2. fit with X_train and y_train\n",
    "clf.fit(X_train, y_train)\n",
    "\n",
    "\n",
    "#3. get the predictions for X_test and store it in y_pred\n",
    "y_pred = clf.predict(X_test)\n",
    "\n",
    "\n",
    "#4. print the classfication report\n",
    "print(classification_report(y_test, y_pred))\n",
    "filename = 'KNN.sav'\n",
    "pickle.dump(clf, open(filename, 'wb'))"
   ]
  },
  {
   "cell_type": "code",
   "execution_count": 17,
   "id": "58311090",
   "metadata": {
    "execution": {
     "iopub.execute_input": "2022-11-12T10:15:41.008661Z",
     "iopub.status.busy": "2022-11-12T10:15:41.007727Z",
     "iopub.status.idle": "2022-11-12T10:15:41.015758Z",
     "shell.execute_reply": "2022-11-12T10:15:41.014507Z"
    },
    "papermill": {
     "duration": 0.019228,
     "end_time": "2022-11-12T10:15:41.018189",
     "exception": false,
     "start_time": "2022-11-12T10:15:40.998961",
     "status": "completed"
    },
    "tags": []
   },
   "outputs": [
    {
     "data": {
      "text/plain": [
       "36760     i seriously appreciate when you guy interact w...\n",
       "104321          it s been a minute yea let it stay that way\n",
       "Name: text, dtype: object"
      ]
     },
     "execution_count": 17,
     "metadata": {},
     "output_type": "execute_result"
    }
   ],
   "source": [
    "X_test[:2]"
   ]
  },
  {
   "cell_type": "code",
   "execution_count": 18,
   "id": "7be960ce",
   "metadata": {
    "execution": {
     "iopub.execute_input": "2022-11-12T10:15:41.034524Z",
     "iopub.status.busy": "2022-11-12T10:15:41.034130Z",
     "iopub.status.idle": "2022-11-12T10:15:41.042033Z",
     "shell.execute_reply": "2022-11-12T10:15:41.040712Z"
    },
    "papermill": {
     "duration": 0.018792,
     "end_time": "2022-11-12T10:15:41.044234",
     "exception": false,
     "start_time": "2022-11-12T10:15:41.025442",
     "status": "completed"
    },
    "tags": []
   },
   "outputs": [
    {
     "data": {
      "text/plain": [
       "36760     2\n",
       "104321    6\n",
       "Name: class, dtype: int64"
      ]
     },
     "execution_count": 18,
     "metadata": {},
     "output_type": "execute_result"
    }
   ],
   "source": [
    "y_test[:2]"
   ]
  },
  {
   "cell_type": "code",
   "execution_count": 19,
   "id": "93260248",
   "metadata": {
    "execution": {
     "iopub.execute_input": "2022-11-12T10:15:41.061062Z",
     "iopub.status.busy": "2022-11-12T10:15:41.059979Z",
     "iopub.status.idle": "2022-11-12T10:15:41.066373Z",
     "shell.execute_reply": "2022-11-12T10:15:41.065572Z"
    },
    "papermill": {
     "duration": 0.016969,
     "end_time": "2022-11-12T10:15:41.068464",
     "exception": false,
     "start_time": "2022-11-12T10:15:41.051495",
     "status": "completed"
    },
    "tags": []
   },
   "outputs": [
    {
     "data": {
      "text/plain": [
       "array([6, 6])"
      ]
     },
     "execution_count": 19,
     "metadata": {},
     "output_type": "execute_result"
    }
   ],
   "source": [
    "y_pred[:2]"
   ]
  },
  {
   "cell_type": "code",
   "execution_count": 20,
   "id": "d72917d1",
   "metadata": {
    "execution": {
     "iopub.execute_input": "2022-11-12T10:15:41.085552Z",
     "iopub.status.busy": "2022-11-12T10:15:41.084801Z",
     "iopub.status.idle": "2022-11-12T10:15:43.686225Z",
     "shell.execute_reply": "2022-11-12T10:15:43.684820Z"
    },
    "papermill": {
     "duration": 2.613062,
     "end_time": "2022-11-12T10:15:43.688906",
     "exception": false,
     "start_time": "2022-11-12T10:15:41.075844",
     "status": "completed"
    },
    "tags": []
   },
   "outputs": [
    {
     "name": "stdout",
     "output_type": "stream",
     "text": [
      "              precision    recall  f1-score   support\n",
      "\n",
      "           1       0.24      0.19      0.21      4063\n",
      "           2       0.44      0.55      0.49      4062\n",
      "           3       0.30      0.37      0.33      4062\n",
      "           4       0.27      0.33      0.30      4062\n",
      "           5       0.33      0.28      0.31      4063\n",
      "           6       0.25      0.19      0.22      4063\n",
      "           7       0.26      0.25      0.25      4062\n",
      "\n",
      "    accuracy                           0.31     28437\n",
      "   macro avg       0.30      0.31      0.30     28437\n",
      "weighted avg       0.30      0.31      0.30     28437\n",
      "\n"
     ]
    }
   ],
   "source": [
    "from sklearn.naive_bayes import MultinomialNB\n",
    "\n",
    "\n",
    "#1. create a pipeline object\n",
    "clf = Pipeline([\n",
    "     ('vectorizer_tfidf',TfidfVectorizer()),    \n",
    "     ('Multi NB', MultinomialNB())         \n",
    "])\n",
    "\n",
    "#2. fit with X_train and y_train\n",
    "clf.fit(X_train, y_train)\n",
    "\n",
    "\n",
    "#3. get the predictions for X_test and store it in y_pred\n",
    "y_pred = clf.predict(X_test)\n",
    "\n",
    "\n",
    "#4. print the classfication report\n",
    "print(classification_report(y_test, y_pred))\n",
    "\n",
    "filename = 'NaiveBayes.sav'\n",
    "pickle.dump(clf, open(filename, 'wb'))"
   ]
  },
  {
   "cell_type": "code",
   "execution_count": 21,
   "id": "71b99a72",
   "metadata": {
    "execution": {
     "iopub.execute_input": "2022-11-12T10:15:43.706369Z",
     "iopub.status.busy": "2022-11-12T10:15:43.705979Z",
     "iopub.status.idle": "2022-11-12T10:29:47.670035Z",
     "shell.execute_reply": "2022-11-12T10:29:47.668600Z"
    },
    "papermill": {
     "duration": 843.976199,
     "end_time": "2022-11-12T10:29:47.673251",
     "exception": false,
     "start_time": "2022-11-12T10:15:43.697052",
     "status": "completed"
    },
    "tags": []
   },
   "outputs": [
    {
     "name": "stdout",
     "output_type": "stream",
     "text": [
      "              precision    recall  f1-score   support\n",
      "\n",
      "           1       0.21      0.18      0.19      4063\n",
      "           2       0.41      0.55      0.47      4062\n",
      "           3       0.27      0.32      0.29      4062\n",
      "           4       0.25      0.27      0.26      4062\n",
      "           5       0.29      0.28      0.29      4063\n",
      "           6       0.25      0.16      0.20      4063\n",
      "           7       0.22      0.20      0.21      4062\n",
      "\n",
      "    accuracy                           0.28     28437\n",
      "   macro avg       0.27      0.28      0.27     28437\n",
      "weighted avg       0.27      0.28      0.27     28437\n",
      "\n"
     ]
    }
   ],
   "source": [
    "from sklearn.ensemble import RandomForestClassifier\n",
    "\n",
    "#1. create a pipeline object\n",
    "clf = Pipeline([\n",
    "     ('vectorizer_tfidf',TfidfVectorizer()),        #using the ngram_range parameter \n",
    "     ('Random Forest', RandomForestClassifier())         \n",
    "])\n",
    "\n",
    "#2. fit with X_train and y_train\n",
    "clf.fit(X_train, y_train)\n",
    "\n",
    "\n",
    "#3. get the predictions for X_test and store it in y_pred\n",
    "y_pred = clf.predict(X_test)\n",
    "\n",
    "\n",
    "#4. print the classfication report\n",
    "print(classification_report(y_test, y_pred))\n",
    "\n",
    "filename = 'RandomForest.sav'\n",
    "pickle.dump(clf, open(filename, 'wb'))"
   ]
  },
  {
   "cell_type": "code",
   "execution_count": 22,
   "id": "59f853fe",
   "metadata": {
    "execution": {
     "iopub.execute_input": "2022-11-12T10:29:47.692572Z",
     "iopub.status.busy": "2022-11-12T10:29:47.692112Z",
     "iopub.status.idle": "2022-11-12T10:29:47.722005Z",
     "shell.execute_reply": "2022-11-12T10:29:47.720926Z"
    },
    "papermill": {
     "duration": 0.043122,
     "end_time": "2022-11-12T10:29:47.724697",
     "exception": false,
     "start_time": "2022-11-12T10:29:47.681575",
     "status": "completed"
    },
    "tags": []
   },
   "outputs": [],
   "source": [
    "from sklearn.metrics import confusion_matrix\n",
    "cm = confusion_matrix(y_test, y_pred)"
   ]
  },
  {
   "cell_type": "code",
   "execution_count": 23,
   "id": "d15ad610",
   "metadata": {
    "execution": {
     "iopub.execute_input": "2022-11-12T10:29:47.743317Z",
     "iopub.status.busy": "2022-11-12T10:29:47.742716Z",
     "iopub.status.idle": "2022-11-12T10:29:48.537018Z",
     "shell.execute_reply": "2022-11-12T10:29:48.535774Z"
    },
    "papermill": {
     "duration": 0.807512,
     "end_time": "2022-11-12T10:29:48.539995",
     "exception": false,
     "start_time": "2022-11-12T10:29:47.732483",
     "status": "completed"
    },
    "tags": []
   },
   "outputs": [
    {
     "data": {
      "text/plain": [
       "Text(69.0, 0.5, 'Truth')"
      ]
     },
     "execution_count": 23,
     "metadata": {},
     "output_type": "execute_result"
    },
    {
     "data": {
      "image/png": "[encoded data removed]",
      "text/plain": [
       "<Figure size 720x504 with 2 Axes>"
      ]
     },
     "metadata": {
      "needs_background": "light"
     },
     "output_type": "display_data"
    }
   ],
   "source": [
    "from matplotlib import pyplot as plt\n",
    "import seaborn as sn\n",
    "plt.figure(figsize = (10,7))\n",
    "sn.heatmap(cm, annot=True, fmt='d')\n",
    "plt.xlabel('Prediction')\n",
    "plt.ylabel('Truth')"
   ]
  },
  {
   "cell_type": "code",
   "execution_count": null,
   "id": "0319869b",
   "metadata": {
    "papermill": {
     "duration": 0.008352,
     "end_time": "2022-11-12T10:29:48.557414",
     "exception": false,
     "start_time": "2022-11-12T10:29:48.549062",
     "status": "completed"
    },
    "tags": []
   },
   "outputs": [],
   "source": []
  }
 ],
 "metadata": {
  "kernelspec": {
   "display_name": "Python 3",
   "language": "python",
   "name": "python3"
  },
  "language_info": {
   "codemirror_mode": {
    "name": "ipython",
    "version": 3
   },
   "file_extension": ".py",
   "mimetype": "text/x-python",
   "name": "python",
   "nbconvert_exporter": "python",
   "pygments_lexer": "ipython3",
   "version": "3.7.12"
  },
  "papermill": {
   "default_parameters": {},
   "duration": 1030.817787,
   "end_time": "2022-11-12T10:29:49.492330",
   "environment_variables": {},
   "exception": null,
   "input_path": "__notebook__.ipynb",
   "output_path": "__notebook__.ipynb",
   "parameters": {},
   "start_time": "2022-11-12T10:12:38.674543",
   "version": "2.3.4"
  }
 },
 "nbformat": 4,
 "nbformat_minor": 5
}
