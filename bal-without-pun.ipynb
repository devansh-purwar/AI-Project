{
 "cells": [
  {
   "cell_type": "code",
   "execution_count": 1,
   "id": "9d4b7a98",
   "metadata": {
    "_cell_guid": "b1076dfc-b9ad-4769-8c92-a6c4dae69d19",
    "_uuid": "8f2839f25d086af736a60e9eeb907d3b93b6e0e5",
    "execution": {
     "iopub.execute_input": "2022-11-13T06:03:05.156336Z",
     "iopub.status.busy": "2022-11-13T06:03:05.155216Z",
     "iopub.status.idle": "2022-11-13T06:03:05.181946Z",
     "shell.execute_reply": "2022-11-13T06:03:05.180123Z"
    },
    "papermill": {
     "duration": 0.037742,
     "end_time": "2022-11-13T06:03:05.186326",
     "exception": false,
     "start_time": "2022-11-13T06:03:05.148584",
     "status": "completed"
    },
    "tags": []
   },
   "outputs": [
    {
     "name": "stdout",
     "output_type": "stream",
     "text": [
      "/kaggle/input/twitter-without-punc/train_twitter_no_punc.csv\n",
      "/kaggle/input/twitter-without-punc/test_twitter_no_punc.csv\n"
     ]
    }
   ],
   "source": [
    "# This Python 3 environment comes with many helpful analytics libraries installed\n",
    "# It is defined by the kaggle/python Docker image: https://github.com/kaggle/docker-python\n",
    "# For example, here's several helpful packages to load\n",
    "\n",
    "import numpy as np # linear algebra\n",
    "import pandas as pd # data processing, CSV file I/O (e.g. pd.read_csv)\n",
    "\n",
    "# Input data files are available in the read-only \"../input/\" directory\n",
    "# For example, running this (by clicking run or pressing Shift+Enter) will list all files under the input directory\n",
    "\n",
    "import os\n",
    "for dirname, _, filenames in os.walk('/kaggle/input'):\n",
    "    for filename in filenames:\n",
    "        print(os.path.join(dirname, filename))\n",
    "\n",
    "# You can write up to 20GB to the current directory (/kaggle/working/) that gets preserved as output when you create a version using \"Save & Run All\" \n",
    "# You can also write temporary files to /kaggle/temp/, but they won't be saved outside of the current session"
   ]
  },
  {
   "cell_type": "code",
   "execution_count": 2,
   "id": "5981e412",
   "metadata": {
    "execution": {
     "iopub.execute_input": "2022-11-13T06:03:05.198790Z",
     "iopub.status.busy": "2022-11-13T06:03:05.197174Z",
     "iopub.status.idle": "2022-11-13T06:19:10.213359Z",
     "shell.execute_reply": "2022-11-13T06:19:10.211942Z"
    },
    "papermill": {
     "duration": 965.025219,
     "end_time": "2022-11-13T06:19:10.216015",
     "exception": false,
     "start_time": "2022-11-13T06:03:05.190796",
     "status": "completed"
    },
    "tags": []
   },
   "outputs": [
    {
     "name": "stdout",
     "output_type": "stream",
     "text": [
      "52625\n",
      "[[0. 0. 0. ... 0. 0. 0.]\n",
      " [0. 0. 0. ... 0. 0. 0.]\n",
      " [0. 0. 0. ... 0. 0. 0.]\n",
      " ...\n",
      " [0. 0. 0. ... 0. 0. 0.]\n",
      " [0. 0. 0. ... 0. 0. 0.]\n",
      " [0. 0. 0. ... 0. 0. 0.]]\n",
      "5    20312\n",
      "1    20312\n",
      "2    20312\n",
      "6    20312\n",
      "3    20312\n",
      "4    20312\n",
      "7    20312\n",
      "Name: category, dtype: int64\n",
      "Shape of X_train:  (113747,)\n",
      "Shape of X_test:  (28437,)\n",
      "138873    i guess if you want to wear that ring you need...\n",
      "1829      anyway my dream merch came today happy it s pr...\n",
      "133081    i m officially a garland bitch i wanted cedar ...\n",
      "137188    weird place  but also not  i feel a really ama...\n",
      "53720     totally did not just wake after passing out on...\n",
      "Name: description, dtype: object\n",
      "4    16250\n",
      "3    16250\n",
      "7    16250\n",
      "2    16250\n",
      "1    16249\n",
      "6    16249\n",
      "5    16249\n",
      "Name: category, dtype: int64\n",
      "6    4063\n",
      "1    4063\n",
      "5    4063\n",
      "2    4062\n",
      "4    4062\n",
      "3    4062\n",
      "7    4062\n",
      "Name: category, dtype: int64\n",
      "              precision    recall  f1-score   support\n",
      "\n",
      "           1       0.13      0.00      0.00      4063\n",
      "           2       0.61      0.09      0.15      4062\n",
      "           3       0.39      0.01      0.01      4062\n",
      "           4       0.24      0.00      0.00      4062\n",
      "           5       0.41      0.03      0.05      4063\n",
      "           6       0.14      0.97      0.25      4063\n",
      "           7       0.22      0.00      0.00      4062\n",
      "\n",
      "    accuracy                           0.16     28437\n",
      "   macro avg       0.31      0.16      0.07     28437\n",
      "weighted avg       0.31      0.16      0.07     28437\n",
      "\n",
      "115734    super cute z  wishing you the very best easter...\n",
      "19439     get your pre match fix with our official final...\n",
      "Name: description, dtype: object\n",
      "115734    2\n",
      "19439     6\n",
      "Name: category, dtype: int64\n",
      "[6 6]\n",
      "              precision    recall  f1-score   support\n",
      "\n",
      "           1       0.25      0.19      0.21      4063\n",
      "           2       0.45      0.56      0.50      4062\n",
      "           3       0.31      0.37      0.33      4062\n",
      "           4       0.27      0.33      0.30      4062\n",
      "           5       0.34      0.30      0.32      4063\n",
      "           6       0.24      0.19      0.21      4063\n",
      "           7       0.26      0.24      0.25      4062\n",
      "\n",
      "    accuracy                           0.31     28437\n",
      "   macro avg       0.30      0.31      0.30     28437\n",
      "weighted avg       0.30      0.31      0.30     28437\n",
      "\n",
      "              precision    recall  f1-score   support\n",
      "\n",
      "           1       0.22      0.19      0.20      4063\n",
      "           2       0.40      0.55      0.47      4062\n",
      "           3       0.28      0.33      0.30      4062\n",
      "           4       0.25      0.26      0.25      4062\n",
      "           5       0.29      0.29      0.29      4063\n",
      "           6       0.26      0.17      0.21      4063\n",
      "           7       0.22      0.20      0.21      4062\n",
      "\n",
      "    accuracy                           0.28     28437\n",
      "   macro avg       0.27      0.28      0.28     28437\n",
      "weighted avg       0.27      0.28      0.28     28437\n",
      "\n"
     ]
    },
    {
     "data": {
      "text/plain": [
       "Text(69.0, 0.5, 'Truth')"
      ]
     },
     "execution_count": 2,
     "metadata": {},
     "output_type": "execute_result"
    },
    {
     "data": {
      "image/png": "[encoded data removed]",
      "text/plain": [
       "<Figure size 720x504 with 2 Axes>"
      ]
     },
     "metadata": {
      "needs_background": "light"
     },
     "output_type": "display_data"
    }
   ],
   "source": [
    "import pickle\n",
    "df1 =pd.read_csv(\"../input/twitter-without-punc/train_twitter_no_punc.csv\")\n",
    "df2 =pd.read_csv(\"../input/twitter-without-punc/test_twitter_no_punc.csv\") \n",
    "df2 = df2.rename(columns={'0': 'description','1':'category'})\n",
    "df = df1.append(df2)\n",
    "df = df.reset_index(drop=True)\n",
    "corpus = df.description.to_list()\n",
    "from sklearn.feature_extraction.text import TfidfVectorizer\n",
    "v = TfidfVectorizer()\n",
    "v.fit(corpus)\n",
    "transform_output = v.transform(corpus)\n",
    "print(len(v.vocabulary_))\n",
    "print(transform_output.toarray())\n",
    "print(df['category'].value_counts())\n",
    "from sklearn.model_selection import train_test_split\n",
    "X_train, X_test, y_train, y_test = train_test_split(\n",
    "    df.description, \n",
    "    df['category'], \n",
    "    test_size=0.2, # 20% samples will go to test dataset\n",
    "    random_state=2022,\n",
    "    stratify=df['category']\n",
    ")\n",
    "print(\"Shape of X_train: \", X_train.shape)\n",
    "print(\"Shape of X_test: \", X_test.shape)\n",
    "print(X_train.head())\n",
    "print(y_train.value_counts())\n",
    "print(y_test.value_counts())\n",
    "from sklearn.neighbors import KNeighborsClassifier\n",
    "from sklearn.pipeline import Pipeline\n",
    "from sklearn.metrics import classification_report\n",
    "#1. create a pipeline object\n",
    "clf = Pipeline([\n",
    "     ('vectorizer_tfidf',TfidfVectorizer()),    \n",
    "     ('KNN', KNeighborsClassifier())         \n",
    "])\n",
    "#2. fit with X_train and y_train\n",
    "clf.fit(X_train, y_train)\n",
    "#3. get the predictions for X_test and store it in y_pred\n",
    "y_pred = clf.predict(X_test)\n",
    "#4. print the classfication report\n",
    "print(classification_report(y_test, y_pred))\n",
    "filename = 'KNN.sav'\n",
    "pickle.dump(clf, open(filename, 'wb'))\n",
    "print(X_test[:2])\n",
    "print(y_test[:2])\n",
    "print(y_pred[:2])\n",
    "from sklearn.naive_bayes import MultinomialNB\n",
    "#1. create a pipeline object\n",
    "clf = Pipeline([\n",
    "     ('vectorizer_tfidf',TfidfVectorizer()),    \n",
    "     ('Multi NB', MultinomialNB())         \n",
    "])\n",
    "#2. fit with X_train and y_train\n",
    "clf.fit(X_train, y_train)\n",
    "#3. get the predictions for X_test and store it in y_pred\n",
    "y_pred = clf.predict(X_test)\n",
    "#4. print the classfication report\n",
    "print(classification_report(y_test, y_pred))\n",
    "filename = 'NaiveBayes.sav'\n",
    "pickle.dump(clf, open(filename, 'wb'))\n",
    "from sklearn.ensemble import RandomForestClassifier\n",
    "#1. create a pipeline object\n",
    "clf = Pipeline([\n",
    "     ('vectorizer_tfidf',TfidfVectorizer()),     \n",
    "     ('Random Forest', RandomForestClassifier())         \n",
    "])\n",
    "#2. fit with X_train and y_train\n",
    "clf.fit(X_train, y_train)\n",
    "#3. get the predictions for X_test and store it in y_pred\n",
    "y_pred = clf.predict(X_test)\n",
    "#4. print the classfication report\n",
    "print(classification_report(y_test, y_pred))\n",
    "filename = 'RandomForest.sav'\n",
    "pickle.dump(clf, open(filename, 'wb'))\n",
    "from sklearn.metrics import confusion_matrix\n",
    "cm = confusion_matrix(y_test, y_pred)\n",
    "from matplotlib import pyplot as plt\n",
    "import seaborn as sn\n",
    "plt.figure(figsize = (10,7))\n",
    "sn.heatmap(cm, annot=True, fmt='d')\n",
    "plt.xlabel('Prediction')\n",
    "plt.ylabel('Truth')"
   ]
  },
  {
   "cell_type": "code",
   "execution_count": null,
   "id": "4eff6152",
   "metadata": {
    "execution": {
     "iopub.execute_input": "2022-11-13T05:52:14.245630Z",
     "iopub.status.busy": "2022-11-13T05:52:14.245316Z",
     "iopub.status.idle": "2022-11-13T05:52:14.252272Z",
     "shell.execute_reply": "2022-11-13T05:52:14.250626Z",
     "shell.execute_reply.started": "2022-11-13T05:52:14.245606Z"
    },
    "papermill": {
     "duration": 0.003339,
     "end_time": "2022-11-13T06:19:10.223070",
     "exception": false,
     "start_time": "2022-11-13T06:19:10.219731",
     "status": "completed"
    },
    "tags": []
   },
   "outputs": [],
   "source": []
  },
  {
   "cell_type": "code",
   "execution_count": null,
   "id": "4f497a87",
   "metadata": {
    "execution": {
     "iopub.execute_input": "2022-11-13T05:52:30.710455Z",
     "iopub.status.busy": "2022-11-13T05:52:30.710118Z",
     "iopub.status.idle": "2022-11-13T05:52:30.719649Z",
     "shell.execute_reply": "2022-11-13T05:52:30.718647Z",
     "shell.execute_reply.started": "2022-11-13T05:52:30.710430Z"
    },
    "papermill": {
     "duration": 0.003938,
     "end_time": "2022-11-13T06:19:10.231066",
     "exception": false,
     "start_time": "2022-11-13T06:19:10.227128",
     "status": "completed"
    },
    "tags": []
   },
   "outputs": [],
   "source": []
  },
  {
   "cell_type": "code",
   "execution_count": null,
   "id": "f6f4d3e9",
   "metadata": {
    "papermill": {
     "duration": 0.003274,
     "end_time": "2022-11-13T06:19:10.238087",
     "exception": false,
     "start_time": "2022-11-13T06:19:10.234813",
     "status": "completed"
    },
    "tags": []
   },
   "outputs": [],
   "source": []
  }
 ],
 "metadata": {
  "kernelspec": {
   "display_name": "Python 3",
   "language": "python",
   "name": "python3"
  },
  "language_info": {
   "codemirror_mode": {
    "name": "ipython",
    "version": 3
   },
   "file_extension": ".py",
   "mimetype": "text/x-python",
   "name": "python",
   "nbconvert_exporter": "python",
   "pygments_lexer": "ipython3",
   "version": "3.7.12"
  },
  "papermill": {
   "default_parameters": {},
   "duration": 975.761867,
   "end_time": "2022-11-13T06:19:11.166372",
   "environment_variables": {},
   "exception": null,
   "input_path": "__notebook__.ipynb",
   "output_path": "__notebook__.ipynb",
   "parameters": {},
   "start_time": "2022-11-13T06:02:55.404505",
   "version": "2.3.4"
  }
 },
 "nbformat": 4,
 "nbformat_minor": 5
}
